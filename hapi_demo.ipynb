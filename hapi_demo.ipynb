{
 "cells": [
  {
   "cell_type": "code",
   "execution_count": 2,
   "metadata": {},
   "outputs": [
    {
     "data": {
      "application/javascript": [
       "// Notebook style configuration\n",
       "require.config({paths: {toc: \"//rawgit.com/rweigel/js-rsw/master/jupyter/toc\"}});require([\"toc\"]);"
      ],
      "text/plain": [
       "<IPython.core.display.Javascript object>"
      ]
     },
     "metadata": {},
     "output_type": "display_data"
    }
   ],
   "source": [
    "%%javascript \n",
    "// Notebook style configuration\n",
    "require.config({paths: {toc: \"//rawgit.com/rweigel/js-rsw/master/jupyter/toc\"}});require([\"toc\"]);"
   ]
  },
  {
   "cell_type": "markdown",
   "metadata": {},
   "source": [
    "The Heliophysics Application Programmer’s Interface (HAPI) data access specification is a RESTful API and streaming format specification for delivering digital time series data.\n",
    "\n",
    "This notebook demonstrates the features of a Python client that accesses data from HAPI-compliant data servers.\n",
    "\n",
    "To use this notebook locally\n",
    "\n",
    "1. [Install Anaconda](https://www.anaconda.com/download/) for Python 3\n",
    "2. On command line enter \n",
    "\n",
    "```bash\n",
    "pip install hapiclient # Install hapiclient package\n",
    "curl -L -O https://rawgithub.com/hapi-server/client-python/master/hapi_demo.ipynb\n",
    "jupyter-notebook hapi_demo.ipynb # Launches browser window\n",
    "```\n",
    "\n",
    "To test code in this notebook, click on a code area, edit, and hit `SHIFT-ENTER` to execute.\n",
    "\n",
    "For more information on HAPI-related software, see http://hapi-server.org/."
   ]
  },
  {
   "cell_type": "markdown",
   "metadata": {},
   "source": [
    "# Display documentation"
   ]
  },
  {
   "cell_type": "code",
   "execution_count": 4,
   "metadata": {},
   "outputs": [
    {
     "name": "stdout",
     "output_type": "stream",
     "text": [
      "Help on function hapi in module hapiclient.hapi:\n",
      "\n",
      "hapi(*args, **kwargs)\n",
      "    Request data from a HAPI server.\n",
      "    \n",
      "    For additional documentation and demonstration, see\n",
      "    https://github.com/hapi-server/client-python/blob/master/hapi_demo.ipynb\n",
      "    \n",
      "    Version: 0.0.6\n",
      "    \n",
      "    Parameters\n",
      "    ----------\n",
      "    server : str\n",
      "        A string with the url to the HAPI compliant server. A HAPI URL\n",
      "        always ends with \"/hapi\".\n",
      "    dataset : str\n",
      "        A string specifying a dataset from a server\n",
      "    parameters: str\n",
      "        Comma-separated list of parameters in dataset\n",
      "    start_time: str\n",
      "        The start time of the requested data\n",
      "    end_time: str\n",
      "        The end time of the requested data; end times are exclusive - the\n",
      "        last data record returned by a HAPI server should be before the\n",
      "        given end_time.\n",
      "    options : dict\n",
      "        The following options are available.\n",
      "            logging (False) - Log to console\n",
      "            cache (True) - Save responses and processed responses in cache_dir\n",
      "            cache_dir (./hapi-data)\n",
      "            use_cache (True) - Use files in cache_dir if found\n",
      "            serverlist (https://github.com/hapi-server/servers/raw/master/all.txt)\n",
      "    \n",
      "    Returns\n",
      "    -------\n",
      "    result : various\n",
      "        Results depend on the input parameters.\n",
      "    \n",
      "        Servers = hapi() or hapi() returns a list of data server URLs from\n",
      "        https://github.com/hapi-server/data-specification/blob/master/servers.txt\n",
      "    \n",
      "        Dataset = hapi(Server) returns a dict of datasets available from a\n",
      "        URL given by the string Server.  The dictionary structure follows the\n",
      "        HAPI JSON structure.\n",
      "    \n",
      "        Parameters = hapi(Server, Dataset) returns a dictionary of parameters\n",
      "        in the string Dataset.  The dictionary structure follows the HAPI JSON\n",
      "        structure.\n",
      "    \n",
      "        Metadata = hapi(Server, Dataset, Parameters) or HAPI(...) returns metadata\n",
      "        associated each parameter in the comma-separated string Parameters.\n",
      "    \n",
      "        Data = hapi(Server, Dataset, Parameters, Start, Stop) returns a dictionary\n",
      "        with elements corresponding to Parameters, e.g., if\n",
      "        Parameters='scalar,vector' and the number of records returned is N, then\n",
      "    \n",
      "        Data['Time'] is a NumPy array of datetimes with shape (N)\n",
      "        Data['scalar'] is a NumPy array of shape (N)\n",
      "        Data['vector'] is a NumPy array of shape (N,3)\n",
      "    \n",
      "    References\n",
      "    ----------\n",
      "        * `HAPI Server Definition <https://github.com/hapi-server/client-python>`\n",
      "    \n",
      "    Examples\n",
      "    ----------\n",
      "       See https://github.com/hapi-server/client-python/blob/master/hapi_demo.ipynb\n",
      "\n"
     ]
    }
   ],
   "source": [
    "from hapiclient.hapi import hapi\n",
    "help(hapi)"
   ]
  },
  {
   "cell_type": "markdown",
   "metadata": {},
   "source": [
    "# Examples\n",
    "## SSCWeb data"
   ]
  },
  {
   "cell_type": "code",
   "execution_count": 8,
   "metadata": {},
   "outputs": [
    {
     "name": "stdout",
     "output_type": "stream",
     "text": [
      "Running hapi.py version 0.0.6\n",
      "Downloading http://hapi-server.org/servers/SSCWeb/hapi/info?id=ace&parameters=X_GSE,Y_GSE,Z_GSE ... Done.\n",
      "Writing /Users/robertweigel/git/client-python/hapi-data/hapi-server.org_servers_SSCWeb_hapi/ace_X_GSEY_GSEZ_GSE.json ... Done.\n",
      "Saving http://hapi-server.org/servers/SSCWeb/hapi/data?id=ace&parameters=X_GSE,Y_GSE,Z_GSE&time.min=2001-01-01T05:00:00&time.max=2001-01-01T06:00:00&format=binary ... Done.\n",
      "Reading /Users/robertweigel/git/client-python/hapi-data/hapi-server.org_servers_SSCWeb_hapi/ace_X_GSE-Y_GSE-Z_GSE_20010101T050000_20010101T060000.bin ... Done.\n",
      "Writing /Users/robertweigel/git/client-python/hapi-data/hapi-server.org_servers_SSCWeb_hapi/ace_X_GSE-Y_GSE-Z_GSE_20010101T050000_20010101T060000.npy ... Done.\n",
      "Writing /Users/robertweigel/git/client-python/hapi-data/hapi-server.org_servers_SSCWeb_hapi/ace_X_GSEY_GSEZ_GSE.pkl ... Done.\n"
     ]
    },
    {
     "data": {
      "image/png": "[encoded data removed]",
      "text/plain": [
       "<Figure size 432x288 with 1 Axes>"
      ]
     },
     "metadata": {},
     "output_type": "display_data"
    },
    {
     "data": {
      "image/png": "[encoded data removed]",
      "text/plain": [
       "<Figure size 432x288 with 1 Axes>"
      ]
     },
     "metadata": {},
     "output_type": "display_data"
    },
    {
     "data": {
      "image/png": "[encoded data removed]",
      "text/plain": [
       "<Figure size 432x288 with 1 Axes>"
      ]
     },
     "metadata": {},
     "output_type": "display_data"
    }
   ],
   "source": [
    "from hapiclient.hapi import hapi\n",
    "from hapiclient.hapiplot import hapiplot\n",
    "%matplotlib inline\n",
    "\n",
    "server     = 'http://hapi-server.org/servers/SSCWeb/hapi'\n",
    "dataset    = 'ace'\n",
    "start      = '2001-01-01T05:00:00'\n",
    "stop       = '2001-01-01T06:00:00'\n",
    "parameters = 'X_GSE,Y_GSE,Z_GSE'\n",
    "opts       = {'logging': True, 'use_cache': False}\n",
    "data,meta = hapi(server, dataset, parameters, start, stop, **opts)\n",
    "hapiplot(data,meta)"
   ]
  },
  {
   "cell_type": "markdown",
   "metadata": {},
   "source": [
    "## CDAWeb data"
   ]
  },
  {
   "cell_type": "code",
   "execution_count": 6,
   "metadata": {},
   "outputs": [
    {
     "name": "stdout",
     "output_type": "stream",
     "text": [
      "Running hapi.py version 0.0.6\n",
      "Reading /Users/robertweigel/git/client-python/hapi-data/cdaweb.gsfc.nasa.gov_hapi/AC_H0_MFI_MagnitudeBGSEc.pkl ... Done.\n",
      "Reading /Users/robertweigel/git/client-python/hapi-data/cdaweb.gsfc.nasa.gov_hapi/AC_H0_MFI_Magnitude-BGSEc_20010101T050000_20010101T060000.npy ... Done.\n"
     ]
    },
    {
     "data": {
      "image/png": "[encoded data removed]",
      "text/plain": [
       "<Figure size 432x288 with 1 Axes>"
      ]
     },
     "metadata": {},
     "output_type": "display_data"
    },
    {
     "data": {
      "image/png": "[encoded data removed]",
      "text/plain": [
       "<Figure size 432x288 with 1 Axes>"
      ]
     },
     "metadata": {},
     "output_type": "display_data"
    }
   ],
   "source": [
    "from hapiclient.hapi import hapi\n",
    "from hapiclient.hapiplot import hapiplot\n",
    "%matplotlib inline\n",
    "\n",
    "server     = 'https://cdaweb.gsfc.nasa.gov/hapi'\n",
    "dataset    = 'AC_H0_MFI'\n",
    "start      = '2001-01-01T05:00:00'\n",
    "stop       = '2001-01-01T06:00:00'\n",
    "parameters = 'Magnitude,BGSEc'\n",
    "opts       = {'logging': True, 'use_cache': True}    \n",
    "data,meta = hapi(server, dataset, parameters, start, stop, **opts)\n",
    "hapiplot(data,meta)"
   ]
  },
  {
   "cell_type": "markdown",
   "metadata": {},
   "source": [
    "# Data Model\n",
    "\n",
    "A request for data of the form\n",
    "```\n",
    "data,meta = hapi(server,dataset,parameters,start,stop)\n",
    "```\n",
    "returns the [Numpy N-D array](https://docs.scipy.org/doc/numpy-1.15.1/user/quickstart.html) `data` and a Python dictionary `meta` from a HAPI-compliant data server `server`.\n",
    "\n",
    "The basic data structure returned by all HAPI servers is a CSV file in which the first column is a time stamp and subsequent columns are data measured or associated with that time stamp. The columns are mapped to one or more parameters (that may be multi-dimensional arrays) using the metadata associated with the request for CSV data.\n",
    "\n",
    "For more information on the HAPI server specification, see https://github.com/hapi-server/data-specification."
   ]
  },
  {
   "cell_type": "markdown",
   "metadata": {},
   "source": [
    "## Extracting Data"
   ]
  },
  {
   "cell_type": "code",
   "execution_count": 122,
   "metadata": {},
   "outputs": [],
   "source": [
    "from hapiclient.hapi import hapi\n",
    "\n",
    "server     = 'http://hapi-server.org/servers/TestData/hapi'\n",
    "dataset    = 'dataset1'\n",
    "parameters = 'scalar,vector'\n",
    "start      = '1970-01-01T00:00:00'\n",
    "stop       = '1970-01-01T00:00:10'\n",
    "\n",
    "data,meta = hapi(server,dataset,parameters,start,stop)"
   ]
  },
  {
   "cell_type": "markdown",
   "metadata": {},
   "source": [
    "`data` is a Numpy N-D array with named fields `Time`, `scalar`, and `vector`. The array has 10 elements (one for each time value) and each element is a list."
   ]
  },
  {
   "cell_type": "code",
   "execution_count": 123,
   "metadata": {},
   "outputs": [
    {
     "data": {
      "text/plain": [
       "array([(b'1970-01-01T00:00:00.000Z', 0.        , [ 0.        , -0.70710678, -1.        ]),\n",
       "       (b'1970-01-01T00:00:01.000Z', 0.00523596, [ 0.00523596, -0.7033947 , -0.99998629]),\n",
       "       (b'1970-01-01T00:00:02.000Z', 0.01047178, [ 0.01047178, -0.69966334, -0.99994517]),\n",
       "       (b'1970-01-01T00:00:03.000Z', 0.01570732, [ 0.01570732, -0.6959128 , -0.99987663]),\n",
       "       (b'1970-01-01T00:00:04.000Z', 0.02094242, [ 0.02094242, -0.69214317, -0.99978068]),\n",
       "       (b'1970-01-01T00:00:05.000Z', 0.02617695, [ 0.02617695, -0.68835458, -0.99965732]),\n",
       "       (b'1970-01-01T00:00:06.000Z', 0.03141076, [ 0.03141076, -0.68454711, -0.99950656]),\n",
       "       (b'1970-01-01T00:00:07.000Z', 0.03664371, [ 0.03664371, -0.68072087, -0.99932839]),\n",
       "       (b'1970-01-01T00:00:08.000Z', 0.04187565, [ 0.04187565, -0.67687597, -0.99912283]),\n",
       "       (b'1970-01-01T00:00:09.000Z', 0.04710645, [ 0.04710645, -0.67301251, -0.99888987])],\n",
       "      dtype=[('Time', 'S24'), ('scalar', '<f8'), ('vector', '<f8', (3,))])"
      ]
     },
     "execution_count": 123,
     "metadata": {},
     "output_type": "execute_result"
    }
   ],
   "source": [
    "data"
   ]
  },
  {
   "cell_type": "markdown",
   "metadata": {},
   "source": [
    "Access first element (all parameters at first time)"
   ]
  },
  {
   "cell_type": "code",
   "execution_count": 124,
   "metadata": {},
   "outputs": [
    {
     "data": {
      "text/plain": [
       "(b'1970-01-01T00:00:00.000Z', 0., [ 0.        , -0.70710678, -1.        ])"
      ]
     },
     "execution_count": 124,
     "metadata": {},
     "output_type": "execute_result"
    }
   ],
   "source": [
    "data[0]"
   ]
  },
  {
   "cell_type": "markdown",
   "metadata": {},
   "source": [
    "Access all time values as Numpy array."
   ]
  },
  {
   "cell_type": "code",
   "execution_count": 125,
   "metadata": {},
   "outputs": [
    {
     "data": {
      "text/plain": [
       "array([b'1970-01-01T00:00:00.000Z', b'1970-01-01T00:00:01.000Z',\n",
       "       b'1970-01-01T00:00:02.000Z', b'1970-01-01T00:00:03.000Z',\n",
       "       b'1970-01-01T00:00:04.000Z', b'1970-01-01T00:00:05.000Z',\n",
       "       b'1970-01-01T00:00:06.000Z', b'1970-01-01T00:00:07.000Z',\n",
       "       b'1970-01-01T00:00:08.000Z', b'1970-01-01T00:00:09.000Z'],\n",
       "      dtype='|S24')"
      ]
     },
     "execution_count": 125,
     "metadata": {},
     "output_type": "execute_result"
    }
   ],
   "source": [
    "data['Time']"
   ]
  },
  {
   "cell_type": "markdown",
   "metadata": {},
   "source": [
    "Access all values for parameter `vector`"
   ]
  },
  {
   "cell_type": "code",
   "execution_count": 126,
   "metadata": {},
   "outputs": [
    {
     "data": {
      "text/plain": [
       "array([[ 0.        , -0.70710678, -1.        ],\n",
       "       [ 0.00523596, -0.7033947 , -0.99998629],\n",
       "       [ 0.01047178, -0.69966334, -0.99994517],\n",
       "       [ 0.01570732, -0.6959128 , -0.99987663],\n",
       "       [ 0.02094242, -0.69214317, -0.99978068],\n",
       "       [ 0.02617695, -0.68835458, -0.99965732],\n",
       "       [ 0.03141076, -0.68454711, -0.99950656],\n",
       "       [ 0.03664371, -0.68072087, -0.99932839],\n",
       "       [ 0.04187565, -0.67687597, -0.99912283],\n",
       "       [ 0.04710645, -0.67301251, -0.99888987]])"
      ]
     },
     "execution_count": 126,
     "metadata": {},
     "output_type": "execute_result"
    }
   ],
   "source": [
    "data['vector']"
   ]
  },
  {
   "cell_type": "markdown",
   "metadata": {},
   "source": [
    "Access value of `vector` at second timestep."
   ]
  },
  {
   "cell_type": "code",
   "execution_count": 127,
   "metadata": {},
   "outputs": [
    {
     "data": {
      "text/plain": [
       "array([ 0.00523596, -0.7033947 , -0.99998629])"
      ]
     },
     "execution_count": 127,
     "metadata": {},
     "output_type": "execute_result"
    }
   ],
   "source": [
    "data['vector'][1] "
   ]
  },
  {
   "cell_type": "markdown",
   "metadata": {},
   "source": [
    "Access value of second component of `vector` at second timestep"
   ]
  },
  {
   "cell_type": "code",
   "execution_count": 128,
   "metadata": {},
   "outputs": [
    {
     "data": {
      "text/plain": [
       "-0.7033947028105039"
      ]
     },
     "execution_count": 128,
     "metadata": {},
     "output_type": "execute_result"
    }
   ],
   "source": [
    "data['vector'][1,1]"
   ]
  },
  {
   "cell_type": "markdown",
   "metadata": {},
   "source": [
    "## Time Representation\n",
    "\n",
    "A HAPI-compliant server represents time as an ISO 8601 string (with several constraints - see the [HAPI specification](https://github.com/hapi-server/data-specification/blob/master/hapi-dev/HAPI-data-access-spec-dev.md#representation-of-time). `hapi.py` reads these into a NumPy array of [Python byte literals](https://stackoverflow.com/a/6273618). To convert byte literals to Python `datetime` objects, the function [`hapitime2datetime`](https://github.com/hapi-server/client-python/blob/master/hapiclient/hapi.py) can be used. Internally, this function uses `pandas.to_datetime` for parsing if possible. Otherwise it falls back to a manual method for parsing."
   ]
  },
  {
   "cell_type": "code",
   "execution_count": 129,
   "metadata": {},
   "outputs": [],
   "source": [
    "from hapiclient.hapi import hapi\n",
    "from hapiclient.hapi import hapitime2datetime\n",
    "\n",
    "server     = 'http://hapi-server.org/servers/TestData/hapi'\n",
    "dataset    = 'dataset1'\n",
    "parameters = 'scalar,vector'\n",
    "start      = '1970-01-01T00:00:00'\n",
    "stop       = '1970-01-01T00:00:10'\n",
    "\n",
    "data,meta = hapi(server,dataset,parameters,start,stop)"
   ]
  },
  {
   "cell_type": "code",
   "execution_count": 130,
   "metadata": {},
   "outputs": [
    {
     "data": {
      "text/plain": [
       "array([b'1970-01-01T00:00:00.000Z', b'1970-01-01T00:00:01.000Z',\n",
       "       b'1970-01-01T00:00:02.000Z', b'1970-01-01T00:00:03.000Z',\n",
       "       b'1970-01-01T00:00:04.000Z', b'1970-01-01T00:00:05.000Z',\n",
       "       b'1970-01-01T00:00:06.000Z', b'1970-01-01T00:00:07.000Z',\n",
       "       b'1970-01-01T00:00:08.000Z', b'1970-01-01T00:00:09.000Z'],\n",
       "      dtype='|S24')"
      ]
     },
     "execution_count": 130,
     "metadata": {},
     "output_type": "execute_result"
    }
   ],
   "source": [
    "data['Time']"
   ]
  },
  {
   "cell_type": "code",
   "execution_count": 131,
   "metadata": {},
   "outputs": [
    {
     "data": {
      "text/plain": [
       "array([datetime.datetime(1970, 1, 1, 0, 0),\n",
       "       datetime.datetime(1970, 1, 1, 0, 0, 1),\n",
       "       datetime.datetime(1970, 1, 1, 0, 0, 2),\n",
       "       datetime.datetime(1970, 1, 1, 0, 0, 3),\n",
       "       datetime.datetime(1970, 1, 1, 0, 0, 4),\n",
       "       datetime.datetime(1970, 1, 1, 0, 0, 5),\n",
       "       datetime.datetime(1970, 1, 1, 0, 0, 6),\n",
       "       datetime.datetime(1970, 1, 1, 0, 0, 7),\n",
       "       datetime.datetime(1970, 1, 1, 0, 0, 8),\n",
       "       datetime.datetime(1970, 1, 1, 0, 0, 9)], dtype=object)"
      ]
     },
     "execution_count": 131,
     "metadata": {},
     "output_type": "execute_result"
    }
   ],
   "source": [
    "hapitime2datetime(data['Time'])"
   ]
  },
  {
   "cell_type": "markdown",
   "metadata": {},
   "source": [
    "## Generating Data"
   ]
  },
  {
   "cell_type": "markdown",
   "metadata": {},
   "source": [
    "A HAPI response of\n",
    "\n",
    "```\n",
    "1970-01-01T00:00:00.000Z, 1.,2.,3.\n",
    "1970-01-01T00:00:02.000Z, 4.,5.,6.\n",
    "```\n",
    "\n",
    "where the metadata indicates there is one parameter named `vector` with `size=[3]` and `type=double` could be created by"
   ]
  },
  {
   "cell_type": "code",
   "execution_count": 132,
   "metadata": {},
   "outputs": [
    {
     "data": {
      "text/plain": [
       "array([(b'1970-01-01T00:00:00.000Z', [1., 2., 3.]),\n",
       "       (b'1970-01-01T00:00:01.000Z', [4., 5., 6.])],\n",
       "      dtype=[('Time', 'S24'), ('vector', '<f8', (3,))])"
      ]
     },
     "execution_count": 132,
     "metadata": {},
     "output_type": "execute_result"
    }
   ],
   "source": [
    "import numpy as np\n",
    "data = np.ndarray(shape=(2), dtype=[('Time', 'S24'), ('vector', '<f8', (3,))])\n",
    "# Populate\n",
    "data['Time'] = np.array([b'1970-01-01T00:00:00.000Z', b'1970-01-01T00:00:01.000Z'])\n",
    "data['vector'] = np.array([[1.0,2.0,3.0],[4.0,5.0,6.0]])\n",
    "# or populate by record\n",
    "data[0] = (b'1970-01-01T00:00:00.000Z', [1.0,2.0,3.0])\n",
    "data[1] = (b'1970-01-01T00:00:01.000Z', [4.0,5.0,6.0])\n",
    "data"
   ]
  },
  {
   "cell_type": "markdown",
   "metadata": {},
   "source": [
    "A HAPI response of\n",
    "\n",
    "```\n",
    "1970-01-01T00:00:00.000Z, 1.,2.,3.,4.,5.,6.,7.,8.,9.\n",
    "1970-01-01T00:00:02.000Z, 11.,12.,13.,14.,15.,16.,17.,18.,19.\n",
    "```\n",
    "where the metadata indicates there is one parameter named `matrix` with `size=[3,3]` and `type=double` could be created by"
   ]
  },
  {
   "cell_type": "code",
   "execution_count": 133,
   "metadata": {},
   "outputs": [
    {
     "data": {
      "text/plain": [
       "array([(b'1970-01-01T00:00:00.000Z', [[ 1.,  2.,  3.], [ 4.,  5.,  6.], [ 7.,  8.,  9.]]),\n",
       "       (b'1970-01-01T00:00:01.000Z', [[11., 12., 13.], [14., 15., 16.], [17., 18., 19.]])],\n",
       "      dtype=[('Time', 'S24'), ('matrix', '<f8', (3, 3))])"
      ]
     },
     "execution_count": 133,
     "metadata": {},
     "output_type": "execute_result"
    }
   ],
   "source": [
    "import numpy as np\n",
    "# Allocate\n",
    "data = np.ndarray(shape=(2), dtype=[('Time', 'S24'), ('matrix', '<f8', (3,3,))])\n",
    "# Populate\n",
    "data['Time'] = np.array([b'1970-01-01T00:00:00.000Z', b'1970-01-01T00:00:01.000Z'])\n",
    "data['matrix'] = np.array( [ [[1.0,2.0,3.0],[4.0,5.0,6.0],[7.0,8.0,9.0]], [[11.0,12.0,13.0],[14.0,15.0,16.0],[17.0,18.0,19.0]]] )\n",
    "data"
   ]
  },
  {
   "cell_type": "markdown",
   "metadata": {},
   "source": [
    "Multiple parameters, e.g. a response with both the vector and matrix parameters considered above\n",
    "\n",
    "```\n",
    "1970-01-01T00:00:00.000Z, 1.,2.,3.,  1.,2.,3.,4.,5.,6.,7.,8.,9.\n",
    "1970-01-01T00:00:02.000Z, 4.,5.,6., 11.,12.,13.,14.,15.,16.,17.,18.,19.\n",
    "```\n",
    "\n",
    "can be created by populating"
   ]
  },
  {
   "cell_type": "code",
   "execution_count": 134,
   "metadata": {},
   "outputs": [
    {
     "data": {
      "text/plain": [
       "array([(b'1970-01-01T00:00:00.000Z', [1., 2., 3.], [[ 1.,  2.,  3.], [ 4.,  5.,  6.], [ 7.,  8.,  9.]]),\n",
       "       (b'1970-01-01T00:00:01.000Z', [4., 5., 6.], [[11., 12., 13.], [14., 15., 16.], [17., 18., 19.]])],\n",
       "      dtype=[('Time', 'S24'), ('vector', '<f8', (3,)), ('matrix', '<f8', (3, 3))])"
      ]
     },
     "execution_count": 134,
     "metadata": {},
     "output_type": "execute_result"
    }
   ],
   "source": [
    "data = np.ndarray(shape=(2), dtype=[('Time', 'S24'), ('vector', '<f8', (3,)), ('matrix', '<f8', (3,3,))])\n",
    "data['Time'] = np.array([b'1970-01-01T00:00:00.000Z', b'1970-01-01T00:00:01.000Z'])\n",
    "data['vector'] = np.array([[1.0,2.0,3.0],[4.0,5.0,6.0]])\n",
    "data['matrix'] = np.array( [ [[1.0,2.0,3.0],[4.0,5.0,6.0],[7.0,8.0,9.0]], [[11.0,12.0,13.0],[14.0,15.0,16.0],[17.0,18.0,19.0]]] )\n",
    "data"
   ]
  },
  {
   "cell_type": "markdown",
   "metadata": {},
   "source": [
    "# Plotting"
   ]
  },
  {
   "cell_type": "code",
   "execution_count": 135,
   "metadata": {},
   "outputs": [],
   "source": [
    "# Get data for use below\n",
    "from hapiclient.hapi import hapi\n",
    "\n",
    "server     = 'http://hapi-server.org/servers/TestData/hapi'\n",
    "dataset    = 'dataset1'\n",
    "parameters = 'scalar,vector'\n",
    "start      = '1970-01-01T00:00:00'\n",
    "stop       = '1970-01-01T00:00:10'\n",
    "\n",
    "data,meta = hapi(server,dataset,parameters,start,stop)"
   ]
  },
  {
   "cell_type": "markdown",
   "metadata": {},
   "source": [
    "## hapiplot\n",
    "The HAPI Python client package comes with a simple plotting function `hapiplot` that plots all of the requested variables. In the following we compare the plots generated by `hapiplot` with those generated by a few MatplotLib commands. Interally, `hapiplot` uses MatplotLib and uses `hapi.util.datetick` to generate better axis labels. It also plots all of the parameters returned by a call to `hapi`.\n",
    "\n",
    "See also [the following subsection](#Pandas) for an example of using Pandas for plotting."
   ]
  },
  {
   "cell_type": "code",
   "execution_count": 136,
   "metadata": {},
   "outputs": [
    {
     "data": {
      "image/png": "[encoded data removed]",
      "text/plain": [
       "<Figure size 432x288 with 1 Axes>"
      ]
     },
     "metadata": {},
     "output_type": "display_data"
    },
    {
     "data": {
      "image/png": "[encoded data removed]",
      "text/plain": [
       "<Figure size 432x288 with 1 Axes>"
      ]
     },
     "metadata": {},
     "output_type": "display_data"
    }
   ],
   "source": [
    "from hapiclient.hapiplot import hapiplot\n",
    "hapiplot(data,meta)"
   ]
  },
  {
   "cell_type": "markdown",
   "metadata": {},
   "source": [
    "## MatplotLib"
   ]
  },
  {
   "cell_type": "code",
   "execution_count": 137,
   "metadata": {},
   "outputs": [
    {
     "data": {
      "text/plain": [
       "Text(0.5,1,'scalar with Time as datetimes')"
      ]
     },
     "execution_count": 137,
     "metadata": {},
     "output_type": "execute_result"
    },
    {
     "data": {
      "image/png": "[encoded data removed]",
      "text/plain": [
       "<Figure size 432x288 with 1 Axes>"
      ]
     },
     "metadata": {},
     "output_type": "display_data"
    },
    {
     "data": {
      "image/png": "[encoded data removed]",
      "text/plain": [
       "<Figure size 432x288 with 1 Axes>"
      ]
     },
     "metadata": {},
     "output_type": "display_data"
    }
   ],
   "source": [
    "from matplotlib import pyplot as plt\n",
    "from hapiclient.hapi import hapitime2datetime\n",
    "\n",
    "# Use byte literal time stamps\n",
    "plt.plot(data['Time'],data['scalar'])\n",
    "plt.gcf().autofmt_xdate()\n",
    "plt.title('scalar with Time as byte literals')\n",
    "\n",
    "# Convert data['Time'] to datetimes.\n",
    "# Note the difference in tick labels when datetimes are used.\n",
    "plt.figure()\n",
    "plt.plot(hapitime2datetime(data['Time']),data['scalar'])\n",
    "plt.gcf().autofmt_xdate()\n",
    "plt.title('scalar with Time as datetimes')"
   ]
  },
  {
   "cell_type": "markdown",
   "metadata": {},
   "source": [
    "## Pandas"
   ]
  },
  {
   "cell_type": "code",
   "execution_count": 138,
   "metadata": {},
   "outputs": [],
   "source": [
    "import pandas\n",
    "df = pandas.DataFrame(data['vector'])\n",
    "df['Time'] = hapitime2datetime(data['Time'])\n",
    "df.set_index('Time', inplace=True)\n",
    "df.columns = ['x', 'y', 'z']"
   ]
  },
  {
   "cell_type": "code",
   "execution_count": 139,
   "metadata": {},
   "outputs": [
    {
     "data": {
      "text/html": [
       "<div>\n",
       "<style scoped>\n",
       "    .dataframe tbody tr th:only-of-type {\n",
       "        vertical-align: middle;\n",
       "    }\n",
       "\n",
       "    .dataframe tbody tr th {\n",
       "        vertical-align: top;\n",
       "    }\n",
       "\n",
       "    .dataframe thead th {\n",
       "        text-align: right;\n",
       "    }\n",
       "</style>\n",
       "<table border=\"1\" class=\"dataframe\">\n",
       "  <thead>\n",
       "    <tr style=\"text-align: right;\">\n",
       "      <th></th>\n",
       "      <th>x</th>\n",
       "      <th>y</th>\n",
       "      <th>z</th>\n",
       "    </tr>\n",
       "    <tr>\n",
       "      <th>Time</th>\n",
       "      <th></th>\n",
       "      <th></th>\n",
       "      <th></th>\n",
       "    </tr>\n",
       "  </thead>\n",
       "  <tbody>\n",
       "    <tr>\n",
       "      <th>1970-01-01 00:00:00</th>\n",
       "      <td>0.000000</td>\n",
       "      <td>-0.707107</td>\n",
       "      <td>-1.000000</td>\n",
       "    </tr>\n",
       "    <tr>\n",
       "      <th>1970-01-01 00:00:01</th>\n",
       "      <td>0.005236</td>\n",
       "      <td>-0.703395</td>\n",
       "      <td>-0.999986</td>\n",
       "    </tr>\n",
       "    <tr>\n",
       "      <th>1970-01-01 00:00:02</th>\n",
       "      <td>0.010472</td>\n",
       "      <td>-0.699663</td>\n",
       "      <td>-0.999945</td>\n",
       "    </tr>\n",
       "    <tr>\n",
       "      <th>1970-01-01 00:00:03</th>\n",
       "      <td>0.015707</td>\n",
       "      <td>-0.695913</td>\n",
       "      <td>-0.999877</td>\n",
       "    </tr>\n",
       "    <tr>\n",
       "      <th>1970-01-01 00:00:04</th>\n",
       "      <td>0.020942</td>\n",
       "      <td>-0.692143</td>\n",
       "      <td>-0.999781</td>\n",
       "    </tr>\n",
       "    <tr>\n",
       "      <th>1970-01-01 00:00:05</th>\n",
       "      <td>0.026177</td>\n",
       "      <td>-0.688355</td>\n",
       "      <td>-0.999657</td>\n",
       "    </tr>\n",
       "    <tr>\n",
       "      <th>1970-01-01 00:00:06</th>\n",
       "      <td>0.031411</td>\n",
       "      <td>-0.684547</td>\n",
       "      <td>-0.999507</td>\n",
       "    </tr>\n",
       "    <tr>\n",
       "      <th>1970-01-01 00:00:07</th>\n",
       "      <td>0.036644</td>\n",
       "      <td>-0.680721</td>\n",
       "      <td>-0.999328</td>\n",
       "    </tr>\n",
       "    <tr>\n",
       "      <th>1970-01-01 00:00:08</th>\n",
       "      <td>0.041876</td>\n",
       "      <td>-0.676876</td>\n",
       "      <td>-0.999123</td>\n",
       "    </tr>\n",
       "    <tr>\n",
       "      <th>1970-01-01 00:00:09</th>\n",
       "      <td>0.047106</td>\n",
       "      <td>-0.673013</td>\n",
       "      <td>-0.998890</td>\n",
       "    </tr>\n",
       "  </tbody>\n",
       "</table>\n",
       "</div>"
      ],
      "text/plain": [
       "                            x         y         z\n",
       "Time                                             \n",
       "1970-01-01 00:00:00  0.000000 -0.707107 -1.000000\n",
       "1970-01-01 00:00:01  0.005236 -0.703395 -0.999986\n",
       "1970-01-01 00:00:02  0.010472 -0.699663 -0.999945\n",
       "1970-01-01 00:00:03  0.015707 -0.695913 -0.999877\n",
       "1970-01-01 00:00:04  0.020942 -0.692143 -0.999781\n",
       "1970-01-01 00:00:05  0.026177 -0.688355 -0.999657\n",
       "1970-01-01 00:00:06  0.031411 -0.684547 -0.999507\n",
       "1970-01-01 00:00:07  0.036644 -0.680721 -0.999328\n",
       "1970-01-01 00:00:08  0.041876 -0.676876 -0.999123\n",
       "1970-01-01 00:00:09  0.047106 -0.673013 -0.998890"
      ]
     },
     "metadata": {},
     "output_type": "display_data"
    }
   ],
   "source": [
    "display(df)"
   ]
  },
  {
   "cell_type": "code",
   "execution_count": 140,
   "metadata": {},
   "outputs": [
    {
     "data": {
      "text/plain": [
       "<matplotlib.axes._subplots.AxesSubplot at 0x11c11c9b0>"
      ]
     },
     "execution_count": 140,
     "metadata": {},
     "output_type": "execute_result"
    },
    {
     "data": {
      "image/png": "[encoded data removed]",
      "text/plain": [
       "<Figure size 432x288 with 1 Axes>"
      ]
     },
     "metadata": {},
     "output_type": "display_data"
    }
   ],
   "source": [
    "df.plot()"
   ]
  },
  {
   "cell_type": "markdown",
   "metadata": {},
   "source": [
    "# Metadata\n",
    "\n",
    "The metadata returned by `hapi()` is a straightforward mapping of the JSON metadata from a HAPI server."
   ]
  },
  {
   "cell_type": "markdown",
   "metadata": {},
   "source": [
    "## Servers"
   ]
  },
  {
   "cell_type": "markdown",
   "metadata": {},
   "source": [
    "Equivalent URL: https://github.com/hapi-server/data-specification/blob/master/servers.txt"
   ]
  },
  {
   "cell_type": "code",
   "execution_count": 141,
   "metadata": {},
   "outputs": [
    {
     "data": {
      "text/plain": [
       "['http://hapi-server.org/servers/TestData/hapi',\n",
       " 'http://hapi-server.org/servers/SSCWeb/hapi',\n",
       " 'http://datashop.elasticbeanstalk.com/hapi',\n",
       " 'https://cdaweb.gsfc.nasa.gov/hapi',\n",
       " 'http://planet.physics.uiowa.edu/das/das2Server/hapi',\n",
       " 'https://iswa.gsfc.nasa.gov/IswaSystemWebApp/hapi']"
      ]
     },
     "metadata": {},
     "output_type": "display_data"
    }
   ],
   "source": [
    "from hapiclient.hapi import hapi\n",
    "\n",
    "servers = hapi() # servers is an array of URLs\n",
    "display(servers)"
   ]
  },
  {
   "cell_type": "markdown",
   "metadata": {},
   "source": [
    "## Server datasets"
   ]
  },
  {
   "cell_type": "markdown",
   "metadata": {},
   "source": [
    "Equivalent URL: https://cdaweb.gsfc.nasa.gov/hapi/catalog"
   ]
  },
  {
   "cell_type": "code",
   "execution_count": 142,
   "metadata": {},
   "outputs": [
    {
     "data": {
      "text/plain": [
       "{'HAPI': '2.0',\n",
       " 'status': {'code': 1200, 'message': 'OK'},\n",
       " 'catalog': [{'id': 'A1_K0_MPA'},\n",
       "  {'id': 'A2_K0_MPA'},\n",
       "  {'id': 'AC_AT_DEF'},\n",
       "  {'id': 'AC_H0_MFI'},\n",
       "  {'id': 'AC_H0_SWE'},\n",
       "  {'id': 'AC_H1_EPM'},\n",
       "  {'id': 'AC_H1_MFI'},\n",
       "  {'id': 'AC_H1_SIS'},\n",
       "  {'id': 'AC_H2_CRIS'},\n",
       "  {'id': 'AC_H2_EPM'},\n",
       "  {'id': 'AC_H2_MFI'},\n",
       "  {'id': 'AC_H2_SEP'},\n",
       "  {'id': 'AC_H2_SIS'},\n",
       "  {'id': 'AC_H2_SWE'},\n",
       "  {'id': 'AC_H2_SWI'},\n",
       "  {'id': 'AC_H2_ULE'},\n",
       "  {'id': 'AC_H3_CRIS'},\n",
       "  {'id': 'AC_H3_EPM'},\n",
       "  {'id': 'AC_H3_MFI'},\n",
       "  {'id': 'AC_H3_SW2'},\n",
       "  {'id': 'AC_H3_SWI'},\n",
       "  {'id': 'AC_H4_SWI'},\n",
       "  {'id': 'AC_H5_SWI'},\n",
       "  {'id': 'AC_H6_SWI'},\n",
       "  {'id': 'AC_K0_EPM'},\n",
       "  {'id': 'AC_K0_MFI'},\n",
       "  {'id': 'AC_K0_SIS'},\n",
       "  {'id': 'AC_K0_SWE'},\n",
       "  {'id': 'AC_K1_EPM'},\n",
       "  {'id': 'AC_K1_MFI'},\n",
       "  {'id': 'AC_K1_SWE'},\n",
       "  {'id': 'AC_K2_MFI'},\n",
       "  {'id': 'AC_OR_DEF'},\n",
       "  {'id': 'AC_OR_SSC'},\n",
       "  {'id': 'BAR_1A_L2_EPHM'},\n",
       "  {'id': 'BAR_1A_L2_FSPC'},\n",
       "  {'id': 'BAR_1A_L2_MAGN'},\n",
       "  {'id': 'BAR_1A_L2_MSPC'},\n",
       "  {'id': 'BAR_1A_L2_RCNT'},\n",
       "  {'id': 'BAR_1A_L2_SSPC'},\n",
       "  {'id': 'BAR_1B_L2_EPHM'},\n",
       "  {'id': 'BAR_1B_L2_FSPC'},\n",
       "  {'id': 'BAR_1B_L2_MAGN'},\n",
       "  {'id': 'BAR_1B_L2_MSPC'},\n",
       "  {'id': 'BAR_1B_L2_RCNT'},\n",
       "  {'id': 'BAR_1B_L2_SSPC'},\n",
       "  {'id': 'BAR_1C_L2_EPHM'},\n",
       "  {'id': 'BAR_1C_L2_FSPC'},\n",
       "  {'id': 'BAR_1C_L2_MAGN'},\n",
       "  {'id': 'BAR_1C_L2_MSPC'},\n",
       "  {'id': 'BAR_1C_L2_RCNT'},\n",
       "  {'id': 'BAR_1C_L2_SSPC'},\n",
       "  {'id': 'BAR_1D_L2_EPHM'},\n",
       "  {'id': 'BAR_1D_L2_FSPC'},\n",
       "  {'id': 'BAR_1D_L2_MAGN'},\n",
       "  {'id': 'BAR_1D_L2_MSPC'},\n",
       "  {'id': 'BAR_1D_L2_RCNT'},\n",
       "  {'id': 'BAR_1D_L2_SSPC'},\n",
       "  {'id': 'BAR_1G_L2_EPHM'},\n",
       "  {'id': 'BAR_1G_L2_FSPC'},\n",
       "  {'id': 'BAR_1G_L2_MAGN'},\n",
       "  {'id': 'BAR_1G_L2_MSPC'},\n",
       "  {'id': 'BAR_1G_L2_RCNT'},\n",
       "  {'id': 'BAR_1G_L2_SSPC'},\n",
       "  {'id': 'BAR_1H_L2_EPHM'},\n",
       "  {'id': 'BAR_1H_L2_FSPC'},\n",
       "  {'id': 'BAR_1H_L2_MAGN'},\n",
       "  {'id': 'BAR_1H_L2_MSPC'},\n",
       "  {'id': 'BAR_1H_L2_RCNT'},\n",
       "  {'id': 'BAR_1H_L2_SSPC'},\n",
       "  {'id': 'BAR_1I_L2_EPHM'},\n",
       "  {'id': 'BAR_1I_L2_FSPC'},\n",
       "  {'id': 'BAR_1I_L2_MAGN'},\n",
       "  {'id': 'BAR_1I_L2_MSPC'},\n",
       "  {'id': 'BAR_1I_L2_RCNT'},\n",
       "  {'id': 'BAR_1I_L2_SSPC'},\n",
       "  {'id': 'BAR_1J_L2_EPHM'},\n",
       "  {'id': 'BAR_1J_L2_FSPC'},\n",
       "  {'id': 'BAR_1J_L2_MAGN'},\n",
       "  {'id': 'BAR_1J_L2_MSPC'},\n",
       "  {'id': 'BAR_1J_L2_RCNT'},\n",
       "  {'id': 'BAR_1J_L2_SSPC'},\n",
       "  {'id': 'BAR_1K_L2_EPHM'},\n",
       "  {'id': 'BAR_1K_L2_FSPC'},\n",
       "  {'id': 'BAR_1K_L2_MAGN'},\n",
       "  {'id': 'BAR_1K_L2_MSPC'},\n",
       "  {'id': 'BAR_1K_L2_RCNT'},\n",
       "  {'id': 'BAR_1K_L2_SSPC'},\n",
       "  {'id': 'BAR_1L_L2_EPHM'},\n",
       "  {'id': 'BAR_1L_L2_FSPC'},\n",
       "  {'id': 'BAR_1L_L2_MAGN'},\n",
       "  {'id': 'BAR_1L_L2_MSPC'},\n",
       "  {'id': 'BAR_1L_L2_RCNT'},\n",
       "  {'id': 'BAR_1L_L2_SSPC'},\n",
       "  {'id': 'BAR_1M_L2_EPHM'},\n",
       "  {'id': 'BAR_1M_L2_FSPC'},\n",
       "  {'id': 'BAR_1M_L2_MAGN'},\n",
       "  {'id': 'BAR_1M_L2_MSPC'},\n",
       "  {'id': 'BAR_1M_L2_RCNT'},\n",
       "  {'id': 'BAR_1M_L2_SSPC'},\n",
       "  {'id': 'BAR_1O_L2_EPHM'},\n",
       "  {'id': 'BAR_1O_L2_FSPC'},\n",
       "  {'id': 'BAR_1O_L2_MAGN'},\n",
       "  {'id': 'BAR_1O_L2_MSPC'},\n",
       "  {'id': 'BAR_1O_L2_RCNT'},\n",
       "  {'id': 'BAR_1O_L2_SSPC'},\n",
       "  {'id': 'BAR_1Q_L2_EPHM'},\n",
       "  {'id': 'BAR_1Q_L2_FSPC'},\n",
       "  {'id': 'BAR_1Q_L2_MAGN'},\n",
       "  {'id': 'BAR_1Q_L2_MSPC'},\n",
       "  {'id': 'BAR_1Q_L2_RCNT'},\n",
       "  {'id': 'BAR_1Q_L2_SSPC'},\n",
       "  {'id': 'BAR_1R_L2_EPHM'},\n",
       "  {'id': 'BAR_1R_L2_FSPC'},\n",
       "  {'id': 'BAR_1R_L2_MAGN'},\n",
       "  {'id': 'BAR_1R_L2_MSPC'},\n",
       "  {'id': 'BAR_1R_L2_RCNT'},\n",
       "  {'id': 'BAR_1R_L2_SSPC'},\n",
       "  {'id': 'BAR_1S_L2_EPHM'},\n",
       "  {'id': 'BAR_1S_L2_FSPC'},\n",
       "  {'id': 'BAR_1S_L2_MAGN'},\n",
       "  {'id': 'BAR_1S_L2_MSPC'},\n",
       "  {'id': 'BAR_1S_L2_RCNT'},\n",
       "  {'id': 'BAR_1S_L2_SSPC'},\n",
       "  {'id': 'BAR_1T_L2_EPHM'},\n",
       "  {'id': 'BAR_1T_L2_FSPC'},\n",
       "  {'id': 'BAR_1T_L2_MAGN'},\n",
       "  {'id': 'BAR_1T_L2_MSPC'},\n",
       "  {'id': 'BAR_1T_L2_RCNT'},\n",
       "  {'id': 'BAR_1T_L2_SSPC'},\n",
       "  {'id': 'BAR_1U_L2_EPHM'},\n",
       "  {'id': 'BAR_1U_L2_FSPC'},\n",
       "  {'id': 'BAR_1U_L2_MAGN'},\n",
       "  {'id': 'BAR_1U_L2_MSPC'},\n",
       "  {'id': 'BAR_1U_L2_RCNT'},\n",
       "  {'id': 'BAR_1U_L2_SSPC'},\n",
       "  {'id': 'BAR_1V_L2_EPHM'},\n",
       "  {'id': 'BAR_1V_L2_FSPC'},\n",
       "  {'id': 'BAR_1V_L2_MAGN'},\n",
       "  {'id': 'BAR_1V_L2_MSPC'},\n",
       "  {'id': 'BAR_1V_L2_RCNT'},\n",
       "  {'id': 'BAR_1V_L2_SSPC'},\n",
       "  {'id': 'BAR_2A_L2_EPHM'},\n",
       "  {'id': 'BAR_2A_L2_FSPC'},\n",
       "  {'id': 'BAR_2A_L2_MAGN'},\n",
       "  {'id': 'BAR_2A_L2_MSPC'},\n",
       "  {'id': 'BAR_2A_L2_RCNT'},\n",
       "  {'id': 'BAR_2A_L2_SSPC'},\n",
       "  {'id': 'BAR_2B_L2_EPHM'},\n",
       "  {'id': 'BAR_2B_L2_FSPC'},\n",
       "  {'id': 'BAR_2B_L2_MAGN'},\n",
       "  {'id': 'BAR_2B_L2_MSPC'},\n",
       "  {'id': 'BAR_2B_L2_RCNT'},\n",
       "  {'id': 'BAR_2B_L2_SSPC'},\n",
       "  {'id': 'BAR_2C_L2_EPHM'},\n",
       "  {'id': 'BAR_2C_L2_FSPC'},\n",
       "  {'id': 'BAR_2C_L2_MAGN'},\n",
       "  {'id': 'BAR_2C_L2_MSPC'},\n",
       "  {'id': 'BAR_2C_L2_RCNT'},\n",
       "  {'id': 'BAR_2C_L2_SSPC'},\n",
       "  {'id': 'BAR_2D_L2_EPHM'},\n",
       "  {'id': 'BAR_2D_L2_FSPC'},\n",
       "  {'id': 'BAR_2D_L2_MAGN'},\n",
       "  {'id': 'BAR_2D_L2_MSPC'},\n",
       "  {'id': 'BAR_2D_L2_RCNT'},\n",
       "  {'id': 'BAR_2D_L2_SSPC'},\n",
       "  {'id': 'BAR_2E_L2_EPHM'},\n",
       "  {'id': 'BAR_2E_L2_FSPC'},\n",
       "  {'id': 'BAR_2E_L2_MAGN'},\n",
       "  {'id': 'BAR_2E_L2_MSPC'},\n",
       "  {'id': 'BAR_2E_L2_RCNT'},\n",
       "  {'id': 'BAR_2E_L2_SSPC'},\n",
       "  {'id': 'BAR_2F_L2_EPHM'},\n",
       "  {'id': 'BAR_2F_L2_FSPC'},\n",
       "  {'id': 'BAR_2F_L2_MAGN'},\n",
       "  {'id': 'BAR_2F_L2_MSPC'},\n",
       "  {'id': 'BAR_2F_L2_RCNT'},\n",
       "  {'id': 'BAR_2F_L2_SSPC'},\n",
       "  {'id': 'BAR_2I_L2_EPHM'},\n",
       "  {'id': 'BAR_2I_L2_FSPC'},\n",
       "  {'id': 'BAR_2I_L2_MAGN'},\n",
       "  {'id': 'BAR_2I_L2_MSPC'},\n",
       "  {'id': 'BAR_2I_L2_RCNT'},\n",
       "  {'id': 'BAR_2I_L2_SSPC'},\n",
       "  {'id': 'BAR_2K_L2_EPHM'},\n",
       "  {'id': 'BAR_2K_L2_FSPC'},\n",
       "  {'id': 'BAR_2K_L2_MAGN'},\n",
       "  {'id': 'BAR_2K_L2_MSPC'},\n",
       "  {'id': 'BAR_2K_L2_RCNT'},\n",
       "  {'id': 'BAR_2K_L2_SSPC'},\n",
       "  {'id': 'BAR_2L_L2_EPHM'},\n",
       "  {'id': 'BAR_2L_L2_FSPC'},\n",
       "  {'id': 'BAR_2L_L2_MAGN'},\n",
       "  {'id': 'BAR_2L_L2_MSPC'},\n",
       "  {'id': 'BAR_2L_L2_RCNT'},\n",
       "  {'id': 'BAR_2L_L2_SSPC'},\n",
       "  {'id': 'BAR_2M_L2_EPHM'},\n",
       "  {'id': 'BAR_2M_L2_FSPC'},\n",
       "  {'id': 'BAR_2M_L2_MAGN'},\n",
       "  {'id': 'BAR_2M_L2_MSPC'},\n",
       "  {'id': 'BAR_2M_L2_RCNT'},\n",
       "  {'id': 'BAR_2M_L2_SSPC'},\n",
       "  {'id': 'BAR_2N_L2_EPHM'},\n",
       "  {'id': 'BAR_2N_L2_FSPC'},\n",
       "  {'id': 'BAR_2N_L2_MAGN'},\n",
       "  {'id': 'BAR_2N_L2_MSPC'},\n",
       "  {'id': 'BAR_2N_L2_RCNT'},\n",
       "  {'id': 'BAR_2N_L2_SSPC'},\n",
       "  {'id': 'BAR_2O_L2_EPHM'},\n",
       "  {'id': 'BAR_2O_L2_FSPC'},\n",
       "  {'id': 'BAR_2O_L2_MAGN'},\n",
       "  {'id': 'BAR_2O_L2_MSPC'},\n",
       "  {'id': 'BAR_2O_L2_RCNT'},\n",
       "  {'id': 'BAR_2O_L2_SSPC'},\n",
       "  {'id': 'BAR_2P_L2_EPHM'},\n",
       "  {'id': 'BAR_2P_L2_FSPC'},\n",
       "  {'id': 'BAR_2P_L2_MAGN'},\n",
       "  {'id': 'BAR_2P_L2_MSPC'},\n",
       "  {'id': 'BAR_2P_L2_RCNT'},\n",
       "  {'id': 'BAR_2P_L2_SSPC'},\n",
       "  {'id': 'BAR_2Q_L2_EPHM'},\n",
       "  {'id': 'BAR_2Q_L2_FSPC'},\n",
       "  {'id': 'BAR_2Q_L2_MAGN'},\n",
       "  {'id': 'BAR_2Q_L2_MSPC'},\n",
       "  {'id': 'BAR_2Q_L2_RCNT'},\n",
       "  {'id': 'BAR_2Q_L2_SSPC'},\n",
       "  {'id': 'BAR_2T_L2_EPHM'},\n",
       "  {'id': 'BAR_2T_L2_FSPC'},\n",
       "  {'id': 'BAR_2T_L2_MAGN'},\n",
       "  {'id': 'BAR_2T_L2_MSPC'},\n",
       "  {'id': 'BAR_2T_L2_RCNT'},\n",
       "  {'id': 'BAR_2T_L2_SSPC'},\n",
       "  {'id': 'BAR_2W_L2_EPHM'},\n",
       "  {'id': 'BAR_2W_L2_FSPC'},\n",
       "  {'id': 'BAR_2W_L2_MAGN'},\n",
       "  {'id': 'BAR_2W_L2_MSPC'},\n",
       "  {'id': 'BAR_2W_L2_RCNT'},\n",
       "  {'id': 'BAR_2W_L2_SSPC'},\n",
       "  {'id': 'BAR_2X_L2_EPHM'},\n",
       "  {'id': 'BAR_2X_L2_FSPC'},\n",
       "  {'id': 'BAR_2X_L2_MAGN'},\n",
       "  {'id': 'BAR_2X_L2_MSPC'},\n",
       "  {'id': 'BAR_2X_L2_RCNT'},\n",
       "  {'id': 'BAR_2X_L2_SSPC'},\n",
       "  {'id': 'BAR_2Y_L2_EPHM'},\n",
       "  {'id': 'BAR_2Y_L2_FSPC'},\n",
       "  {'id': 'BAR_2Y_L2_MAGN'},\n",
       "  {'id': 'BAR_2Y_L2_MSPC'},\n",
       "  {'id': 'BAR_2Y_L2_RCNT'},\n",
       "  {'id': 'BAR_2Y_L2_SSPC'},\n",
       "  {'id': 'C1_CP_FGM_SPIN'},\n",
       "  {'id': 'C1_JP_PMP'},\n",
       "  {'id': 'C1_JP_PSE'},\n",
       "  {'id': 'C1_PP_ASP'},\n",
       "  {'id': 'C1_PP_CIS'},\n",
       "  {'id': 'C1_PP_DWP'},\n",
       "  {'id': 'C1_PP_EDI'},\n",
       "  {'id': 'C1_PP_EFW'},\n",
       "  {'id': 'C1_PP_PEA'},\n",
       "  {'id': 'C1_PP_RAP'},\n",
       "  {'id': 'C1_PP_STA'},\n",
       "  {'id': 'C1_PP_WHI'},\n",
       "  {'id': 'C1_UP_FGM'},\n",
       "  {'id': 'C1_WAVEFORM_WBD'},\n",
       "  {'id': 'C1_WAVEFORM_WBD_BM2'},\n",
       "  {'id': 'C2_CP_FGM_SPIN'},\n",
       "  {'id': 'C2_JP_PMP'},\n",
       "  {'id': 'C2_JP_PSE'},\n",
       "  {'id': 'C2_PP_ASP'},\n",
       "  {'id': 'C2_PP_DWP'},\n",
       "  {'id': 'C2_PP_EDI'},\n",
       "  {'id': 'C2_PP_EFW'},\n",
       "  {'id': 'C2_PP_PEA'},\n",
       "  {'id': 'C2_PP_RAP'},\n",
       "  {'id': 'C2_PP_STA'},\n",
       "  {'id': 'C2_PP_WHI'},\n",
       "  {'id': 'C2_UP_FGM'},\n",
       "  {'id': 'C2_WAVEFORM_WBD'},\n",
       "  {'id': 'C2_WAVEFORM_WBD_BM2'},\n",
       "  {'id': 'C3_CP_FGM_SPIN'},\n",
       "  {'id': 'C3_JP_PMP'},\n",
       "  {'id': 'C3_JP_PSE'},\n",
       "  {'id': 'C3_PP_ASP'},\n",
       "  {'id': 'C3_PP_CIS'},\n",
       "  {'id': 'C3_PP_DWP'},\n",
       "  {'id': 'C3_PP_EDI'},\n",
       "  {'id': 'C3_PP_PEA'},\n",
       "  {'id': 'C3_PP_RAP'},\n",
       "  {'id': 'C3_PP_STA'},\n",
       "  {'id': 'C3_PP_WHI'},\n",
       "  {'id': 'C3_UP_FGM'},\n",
       "  {'id': 'C3_WAVEFORM_WBD'},\n",
       "  {'id': 'C3_WAVEFORM_WBD_BM2'},\n",
       "  {'id': 'C4_CP_FGM_SPIN'},\n",
       "  {'id': 'C4_JP_PMP'},\n",
       "  {'id': 'C4_JP_PSE'},\n",
       "  {'id': 'C4_PP_ASP'},\n",
       "  {'id': 'C4_PP_CIS'},\n",
       "  {'id': 'C4_PP_DWP'},\n",
       "  {'id': 'C4_PP_EDI'},\n",
       "  {'id': 'C4_PP_EFW'},\n",
       "  {'id': 'C4_PP_PEA'},\n",
       "  {'id': 'C4_PP_RAP'},\n",
       "  {'id': 'C4_PP_STA'},\n",
       "  {'id': 'C4_PP_WHI'},\n",
       "  {'id': 'C4_UP_FGM'},\n",
       "  {'id': 'C4_WAVEFORM_WBD'},\n",
       "  {'id': 'C4_WAVEFORM_WBD_BM2'},\n",
       "  {'id': 'CASSINI_MAG_1MIN_MAGNETIC_FIELD'},\n",
       "  {'id': 'CL_JP_PCY'},\n",
       "  {'id': 'CL_JP_PGP'},\n",
       "  {'id': 'CNOFS_CINDI_IVM_500MS'},\n",
       "  {'id': 'CNOFS_PLP_PLASMA_1SEC'},\n",
       "  {'id': 'CNOFS_VEFI_BFIELD_1SEC'},\n",
       "  {'id': 'CNOFS_VEFI_EFIELD_1SEC'},\n",
       "  {'id': 'CNOFS_VEFI_LD_500MS'},\n",
       "  {'id': 'CN_K0_ASI'},\n",
       "  {'id': 'CN_K0_BARS'},\n",
       "  {'id': 'CN_K0_MARI'},\n",
       "  {'id': 'CN_K0_MPA'},\n",
       "  {'id': 'CN_K1_MARI'},\n",
       "  {'id': 'CRRES_H0_MEA'},\n",
       "  {'id': 'CSSWE_REPTILE_6SEC-COUNTS-L1'},\n",
       "  {'id': 'CSSWE_REPTILE_6SEC-FLUX-L2'},\n",
       "  {'id': 'CT_JP_PSE'},\n",
       "  {'id': 'DE1_6SEC_MAGAGMS'},\n",
       "  {'id': 'DE1_PWI_LFC-SPECTRA'},\n",
       "  {'id': 'DE1_PWI_OR-AT'},\n",
       "  {'id': 'DE1_PWI_SFC-SPECTRA'},\n",
       "  {'id': 'DE2_DUCT16MS_RPA_0'},\n",
       "  {'id': 'DE2_DUCT16MS_RPA_1'},\n",
       "  {'id': 'DE2_DUCT16MS_RPA_2'},\n",
       "  {'id': 'DE2_DUCT16MS_RPA_3'},\n",
       "  {'id': 'DE2_DUCT16MS_RPA_4'},\n",
       "  {'id': 'DE2_DUCT16MS_RPA_5'},\n",
       "  {'id': 'DE2_DUCT16MS_RPA_6'},\n",
       "  {'id': 'DE2_DUCT16MS_RPA_7'},\n",
       "  {'id': 'DE2_ION2S_RPA'},\n",
       "  {'id': 'DE2_NEUTRAL1S_NACS'},\n",
       "  {'id': 'DE2_NEUTRAL8S_FPI'},\n",
       "  {'id': 'DE2_PLASMA500MS_LANG'},\n",
       "  {'id': 'DE2_UA16S_ALL'},\n",
       "  {'id': 'DE2_VION250MS_IDM_0'},\n",
       "  {'id': 'DE2_VION250MS_IDM_1'},\n",
       "  {'id': 'DE2_VION250MS_IDM_2'},\n",
       "  {'id': 'DE2_WIND2S_WATS'},\n",
       "  {'id': 'DE_UV_SAI'},\n",
       "  {'id': 'DE_VS_EICS'},\n",
       "  {'id': 'DMSP-F16_SSJ_PRECIPITATING-ELECTRONS-IONS'},\n",
       "  {'id': 'DMSP-F16_SSM_MAGNETOMETER'},\n",
       "  {'id': 'DMSP-F17_SSJ_PRECIPITATING-ELECTRONS-IONS'},\n",
       "  {'id': 'DMSP-F17_SSM_MAGNETOMETER'},\n",
       "  {'id': 'DMSP-F18_SSJ_PRECIPITATING-ELECTRONS-IONS'},\n",
       "  {'id': 'DMSP-F18_SSM_MAGNETOMETER'},\n",
       "  {'id': 'DN_K0_GBAY'},\n",
       "  {'id': 'DN_K0_HANK'},\n",
       "  {'id': 'DN_K0_ICEW'},\n",
       "  {'id': 'DN_K0_KAPU'},\n",
       "  {'id': 'DN_K0_PACE'},\n",
       "  {'id': 'DN_K0_PYKK'},\n",
       "  {'id': 'DN_K0_SASK'},\n",
       "  {'id': 'DSCOVR_AT_DEF'},\n",
       "  {'id': 'DSCOVR_AT_PRE'},\n",
       "  {'id': 'DSCOVR_H0_MAG'},\n",
       "  {'id': 'DSCOVR_H1_FC'},\n",
       "  {'id': 'DSCOVR_ORBIT_PRE'},\n",
       "  {'id': 'EQ_PP_AUX'},\n",
       "  {'id': 'EQ_PP_EDI'},\n",
       "  {'id': 'EQ_PP_EPI'},\n",
       "  {'id': 'EQ_PP_ICI'},\n",
       "  {'id': 'EQ_PP_MAM'},\n",
       "  {'id': 'EQ_PP_PCD'},\n",
       "  {'id': 'EQ_SP_SFD'},\n",
       "  {'id': 'FAST_HR_DCB_0'},\n",
       "  {'id': 'FAST_HR_DCB_1'},\n",
       "  {'id': 'FAST_HR_DCB_2'},\n",
       "  {'id': 'FAST_HR_DCB_3'},\n",
       "  {'id': 'FA_ESA_L2_EEB'},\n",
       "  {'id': 'FA_ESA_L2_EES'},\n",
       "  {'id': 'FA_ESA_L2_IEB'},\n",
       "  {'id': 'FA_ESA_L2_IES'},\n",
       "  {'id': 'FA_K0_ACF'},\n",
       "  {'id': 'FA_K0_TMS'},\n",
       "  {'id': 'G0_K0_EP8'},\n",
       "  {'id': 'G0_K0_MAG'},\n",
       "  {'id': 'G10_L2_MAG_0'},\n",
       "  {'id': 'G10_L2_MAG_1'},\n",
       "  {'id': 'G10_L2_MAG_2'},\n",
       "  {'id': 'G11_L2_MAG_0'},\n",
       "  {'id': 'G11_L2_MAG_1'},\n",
       "  {'id': 'G11_L2_MAG_2'},\n",
       "  {'id': 'G12_L2_MAG_0'},\n",
       "  {'id': 'G12_L2_MAG_1'},\n",
       "  {'id': 'G12_L2_MAG_2'},\n",
       "  {'id': 'G6_K0_EPS'},\n",
       "  {'id': 'G6_K0_MAG'},\n",
       "  {'id': 'G7_K0_EPS'},\n",
       "  {'id': 'G7_K0_MAG'},\n",
       "  {'id': 'G7_K1_MAG'},\n",
       "  {'id': 'G8_K0_EP8'},\n",
       "  {'id': 'G8_K0_MAG'},\n",
       "  {'id': 'G9_K0_EP8'},\n",
       "  {'id': 'G9_K0_MAG'},\n",
       "  {'id': 'GENESIS_3DL2_GIM'},\n",
       "  {'id': 'GE_1MIN_MAG_PLASMA_SW_ONLY'},\n",
       "  {'id': 'GE_AT_DEF'},\n",
       "  {'id': 'GE_AT_PRE'},\n",
       "  {'id': 'GE_EDA12SEC_LEP'},\n",
       "  {'id': 'GE_EDA3SEC_MGF'},\n",
       "  {'id': 'GE_EDB12SEC_LEP'},\n",
       "  {'id': 'GE_EDB3SEC_MGF'},\n",
       "  {'id': 'GE_H0_CPI'},\n",
       "  {'id': 'GE_HPAMOM_CPI'},\n",
       "  {'id': 'GE_K0_CPI'},\n",
       "  {'id': 'GE_K0_EFD'},\n",
       "  {'id': 'GE_K0_EPI'},\n",
       "  {'id': 'GE_K0_LEP'},\n",
       "  {'id': 'GE_K0_MGF'},\n",
       "  {'id': 'GE_K0_PWI'},\n",
       "  {'id': 'GE_K0_SPHA'},\n",
       "  {'id': 'GE_OR_DEF'},\n",
       "  {'id': 'GE_OR_PRE'},\n",
       "  {'id': 'GE_SW_CPI'},\n",
       "  {'id': 'GOES11_K0_EP8'},\n",
       "  {'id': 'GOES11_K0_MAG'},\n",
       "  {'id': 'GOES12_K0_MAG'},\n",
       "  {'id': 'GOES13_EPEAD-SCIENCE-ELECTRONS-E13EW_1MIN'},\n",
       "  {'id': 'GOES13_EPS-MAGED_1MIN'},\n",
       "  {'id': 'GOES13_EPS-MAGED_5MIN'},\n",
       "  {'id': 'GOES13_EPS-PITCH-ANGLES_1MIN'},\n",
       "  {'id': 'GOES14_EPEAD-SCIENCE-ELECTRONS-E13EW_1MIN'},\n",
       "  {'id': 'GOES14_EPS-MAGED_1MIN'},\n",
       "  {'id': 'GOES14_EPS-MAGED_5MIN'},\n",
       "  {'id': 'GOES14_EPS-PITCH-ANGLES_1MIN'},\n",
       "  {'id': 'GOES15_EPEAD-SCIENCE-ELECTRONS-E13EW_1MIN'},\n",
       "  {'id': 'GOES15_EPS-MAGED_1MIN'},\n",
       "  {'id': 'GOES15_EPS-MAGED_5MIN'},\n",
       "  {'id': 'GOES15_EPS-PITCH-ANGLES_1MIN'},\n",
       "  {'id': 'GPS_ROTI15MIN_JPL'},\n",
       "  {'id': 'GPS_TEC15MIN_IGS'},\n",
       "  {'id': 'GPS_TEC1HR_IGS'},\n",
       "  {'id': 'GPS_TEC2HR_IGS'},\n",
       "  {'id': 'HEL1_6SEC_NESSMAG'},\n",
       "  {'id': 'HEL2_6SEC_NESSMAG'},\n",
       "  {'id': 'HELIOS1_40SEC_MAG-PLASMA'},\n",
       "  {'id': 'HELIOS1_COHO1HR_MERGED_MAG_PLASMA'},\n",
       "  {'id': 'HELIOS1_E6_1HOUR_PARTICLE_FLUX'},\n",
       "  {'id': 'HELIOS1_E6_KUNOW_1HOUR_PARTICLE-FLUX'},\n",
       "  {'id': 'HELIOS2_40SEC_MAG-PLASMA'},\n",
       "  {'id': 'HELIOS2_COHO1HR_MERGED_MAG_PLASMA'},\n",
       "  {'id': 'HELIOS2_E6_1HOUR_PARTICLE_FLUX'},\n",
       "  {'id': 'HELIOS2_E6_KUNOW_1HOUR_PARTICLE-FLUX'},\n",
       "  {'id': 'HK_H0_MAG'},\n",
       "  {'id': 'HK_H0_VLF'},\n",
       "  {'id': 'IA_K0_ENF'},\n",
       "  {'id': 'IA_K0_EPI'},\n",
       "  {'id': 'IA_K0_ICD'},\n",
       "  {'id': 'IA_K0_MFI'},\n",
       "  {'id': 'IA_OR_DEF'},\n",
       "  {'id': 'IG_K0_PCI'},\n",
       "  {'id': 'IM_ELECTRON_DENSITY_RPI'},\n",
       "  {'id': 'IM_HK_ADS'},\n",
       "  {'id': 'IM_HK_AST'},\n",
       "  {'id': 'IM_HK_COM'},\n",
       "  {'id': 'IM_HK_FSW'},\n",
       "  {'id': 'IM_HK_PWR'},\n",
       "  {'id': 'IM_HK_TML'},\n",
       "  {'id': 'IM_K0_EUV'},\n",
       "  {'id': 'IM_K0_HENA'},\n",
       "  {'id': 'IM_K0_LENA'},\n",
       "  {'id': 'IM_K0_MENA'},\n",
       "  {'id': 'IM_K0_RPI'},\n",
       "  {'id': 'IM_K0_SIE'},\n",
       "  {'id': 'IM_K0_SIP'},\n",
       "  {'id': 'IM_K0_WIC'},\n",
       "  {'id': 'IM_K1_RPI'},\n",
       "  {'id': 'IM_OR_DEF'},\n",
       "  {'id': 'IM_OR_PRE'},\n",
       "  {'id': 'ISEE-3_MAGPLASMA_2MIN_MAGNETIC_FIELD_PLASMA'},\n",
       "  {'id': 'ISEE-3_MAG_1MIN_MAGNETIC_FIELD'},\n",
       "  {'id': 'ISEE1_4SEC_MFI'},\n",
       "  {'id': 'ISEE1_60SEC_MFI'},\n",
       "  {'id': 'ISEE1_H0_FE'},\n",
       "  {'id': 'ISEE1_H1_FPE'},\n",
       "  {'id': 'ISEE1_H2_FPE'},\n",
       "  {'id': 'ISEE1_PWI_SA'},\n",
       "  {'id': 'ISEE1_PWI_SA-RAPID-E'},\n",
       "  {'id': 'ISEE1_PWI_SFR-E'},\n",
       "  {'id': 'ISEE2_4SEC_MFI'},\n",
       "  {'id': 'ISEE2_60SEC_MFI'},\n",
       "  {'id': 'ISEE2_H1_FPE'},\n",
       "  {'id': 'IT_H0_MFI'},\n",
       "  {'id': 'IT_K0_AKR'},\n",
       "  {'id': 'IT_K0_COR'},\n",
       "  {'id': 'IT_K0_ELE'},\n",
       "  {'id': 'IT_K0_EPI'},\n",
       "  {'id': 'IT_K0_ICD'},\n",
       "  {'id': 'IT_K0_MFI'},\n",
       "  {'id': 'IT_K0_VDP'},\n",
       "  {'id': 'IT_K0_WAV'},\n",
       "  {'id': 'IT_OR_DEF'},\n",
       "  {'id': 'L0_K0_MPA'},\n",
       "  {'id': 'L0_K0_SPA'},\n",
       "  {'id': 'L1_K0_MPA'},\n",
       "  {'id': 'L1_K0_SPA'},\n",
       "  {'id': 'L4_K0_MPA'},\n",
       "  {'id': 'L4_K0_SPA'},\n",
       "  {'id': 'L7_H0_MPA'},\n",
       "  {'id': 'L7_K0_MPA'},\n",
       "  {'id': 'L7_K0_SPA'},\n",
       "  {'id': 'L9_H0_MPA'},\n",
       "  {'id': 'L9_K0_MPA'},\n",
       "  {'id': 'L9_K0_SPA'},\n",
       "  {'id': 'MESSENGER_MAG_RTN'},\n",
       "  {'id': 'METOP1_POES-SEM2_FLUXES-2SEC'},\n",
       "  {'id': 'METOP2_POES-SEM2_FLUXES-2SEC'},\n",
       "  {'id': 'MMS1_ASPOC_SRVY_L2'},\n",
       "  {'id': 'MMS1_DSP_FAST_L2_BPSD'},\n",
       "  {'id': 'MMS1_DSP_FAST_L2_EPSD'},\n",
       "  {'id': 'MMS1_DSP_SLOW_L2_BPSD'},\n",
       "  {'id': 'MMS1_DSP_SLOW_L2_EPSD'},\n",
       "  {'id': 'MMS1_EDI_BRST_L2_AMB-PM2_0'},\n",
       "  {'id': 'MMS1_EDI_BRST_L2_AMB-PM2_1'},\n",
       "  {'id': 'MMS1_EDI_BRST_L2_AMB_0'},\n",
       "  {'id': 'MMS1_EDI_BRST_L2_AMB_1'},\n",
       "  {'id': 'MMS1_EDI_BRST_L2_EFIELD'},\n",
       "  {'id': 'MMS1_EDI_BRST_L2_Q0_0'},\n",
       "  {'id': 'MMS1_EDI_BRST_L2_Q0_1'},\n",
       "  {'id': 'MMS1_EDI_BRST_L2_Q0_2'},\n",
       "  {'id': 'MMS1_EDI_SRVY_L2_AMB-PM2_0'},\n",
       "  {'id': 'MMS1_EDI_SRVY_L2_AMB-PM2_1'},\n",
       "  {'id': 'MMS1_EDI_SRVY_L2_AMB_0'},\n",
       "  {'id': 'MMS1_EDI_SRVY_L2_AMB_1'},\n",
       "  {'id': 'MMS1_EDI_SRVY_L2_EFIELD'},\n",
       "  {'id': 'MMS1_EDI_SRVY_L2_Q0_0'},\n",
       "  {'id': 'MMS1_EDI_SRVY_L2_Q0_1'},\n",
       "  {'id': 'MMS1_EDI_SRVY_L2_Q0_2'},\n",
       "  {'id': 'MMS1_EDP_BRST_L2_DCE'},\n",
       "  {'id': 'MMS1_EDP_BRST_L2_HMFE'},\n",
       "  {'id': 'MMS1_EDP_BRST_L2_SCPOT'},\n",
       "  {'id': 'MMS1_EDP_FAST_L2_DCE'},\n",
       "  {'id': 'MMS1_EDP_FAST_L2_SCPOT'},\n",
       "  {'id': 'MMS1_EDP_SLOW_L2_DCE'},\n",
       "  {'id': 'MMS1_EDP_SLOW_L2_SCPOT'},\n",
       "  {'id': 'MMS1_EDP_SRVY_L2_HFESP'},\n",
       "  {'id': 'MMS1_EPD-EIS_BRST_L2_EXTOF'},\n",
       "  {'id': 'MMS1_EPD-EIS_BRST_L2_PHXTOF'},\n",
       "  {'id': 'MMS1_EPD-EIS_SRVY_L2_ELECTRONENERGY'},\n",
       "  {'id': 'MMS1_EPD-EIS_SRVY_L2_EXTOF'},\n",
       "  {'id': 'MMS1_EPD-EIS_SRVY_L2_PHXTOF'},\n",
       "  {'id': 'MMS1_FEEPS_BRST_L2_ELECTRON'},\n",
       "  {'id': 'MMS1_FEEPS_BRST_L2_ION'},\n",
       "  {'id': 'MMS1_FEEPS_SRVY_L2_ELECTRON'},\n",
       "  {'id': 'MMS1_FEEPS_SRVY_L2_ION'},\n",
       "  {'id': 'MMS1_FGM_BRST_L2_0'},\n",
       "  {'id': 'MMS1_FGM_BRST_L2_1'},\n",
       "  {'id': 'MMS1_FGM_SRVY_L2_0'},\n",
       "  {'id': 'MMS1_FGM_SRVY_L2_1'},\n",
       "  {'id': 'MMS1_FPI_BRST_L2_DES-DIST'},\n",
       "  {'id': 'MMS1_FPI_BRST_L2_DES-MOMS'},\n",
       "  {'id': 'MMS1_FPI_BRST_L2_DIS-DIST'},\n",
       "  {'id': 'MMS1_FPI_BRST_L2_DIS-MOMS'},\n",
       "  {'id': 'MMS1_FPI_FAST_L2_DES-DIST'},\n",
       "  {'id': 'MMS1_FPI_FAST_L2_DES-MOMS'},\n",
       "  {'id': 'MMS1_FPI_FAST_L2_DIS-DIST'},\n",
       "  {'id': 'MMS1_FPI_FAST_L2_DIS-MOMS'},\n",
       "  {'id': 'MMS1_HPCA_BRST_L2_ION'},\n",
       "  {'id': 'MMS1_HPCA_BRST_L2_MOMENTS'},\n",
       "  {'id': 'MMS1_HPCA_SRVY_L2_ION'},\n",
       "  {'id': 'MMS1_HPCA_SRVY_L2_MOMENTS'},\n",
       "  {'id': 'MMS1_MEC_BRST_L2_EPHT89D'},\n",
       "  {'id': 'MMS1_MEC_BRST_L2_EPHT89Q'},\n",
       "  {'id': 'MMS1_MEC_BRST_L2_EPHTS04D'},\n",
       "  {'id': 'MMS1_MEC_SRVY_L2_EPHT89D'},\n",
       "  {'id': 'MMS1_MEC_SRVY_L2_EPHT89Q'},\n",
       "  {'id': 'MMS1_MEC_SRVY_L2_EPHTS04D'},\n",
       "  {'id': 'MMS1_SCM_BRST_L2_SCB'},\n",
       "  {'id': 'MMS1_SCM_BRST_L2_SCHB'},\n",
       "  {'id': 'MMS1_SCM_SRVY_L2_SCSRVY'},\n",
       "  {'id': 'MMS2_ASPOC_SRVY_L2'},\n",
       "  {'id': 'MMS2_DSP_FAST_L2_BPSD'},\n",
       "  {'id': 'MMS2_DSP_FAST_L2_EPSD'},\n",
       "  {'id': 'MMS2_DSP_SLOW_L2_BPSD'},\n",
       "  {'id': 'MMS2_DSP_SLOW_L2_EPSD'},\n",
       "  {'id': 'MMS2_EDI_BRST_L2_AMB-PM2_0'},\n",
       "  {'id': 'MMS2_EDI_BRST_L2_AMB-PM2_1'},\n",
       "  {'id': 'MMS2_EDI_BRST_L2_AMB_0'},\n",
       "  {'id': 'MMS2_EDI_BRST_L2_AMB_1'},\n",
       "  {'id': 'MMS2_EDI_BRST_L2_EFIELD'},\n",
       "  {'id': 'MMS2_EDI_BRST_L2_Q0_0'},\n",
       "  {'id': 'MMS2_EDI_BRST_L2_Q0_1'},\n",
       "  {'id': 'MMS2_EDI_BRST_L2_Q0_2'},\n",
       "  {'id': 'MMS2_EDI_SRVY_L2_AMB-PM2_0'},\n",
       "  {'id': 'MMS2_EDI_SRVY_L2_AMB-PM2_1'},\n",
       "  {'id': 'MMS2_EDI_SRVY_L2_AMB_0'},\n",
       "  {'id': 'MMS2_EDI_SRVY_L2_AMB_1'},\n",
       "  {'id': 'MMS2_EDI_SRVY_L2_EFIELD'},\n",
       "  {'id': 'MMS2_EDI_SRVY_L2_Q0_0'},\n",
       "  {'id': 'MMS2_EDI_SRVY_L2_Q0_1'},\n",
       "  {'id': 'MMS2_EDI_SRVY_L2_Q0_2'},\n",
       "  {'id': 'MMS2_EDP_BRST_L2_DCE'},\n",
       "  {'id': 'MMS2_EDP_BRST_L2_HMFE'},\n",
       "  {'id': 'MMS2_EDP_BRST_L2_SCPOT'},\n",
       "  {'id': 'MMS2_EDP_FAST_L2_DCE'},\n",
       "  {'id': 'MMS2_EDP_FAST_L2_SCPOT'},\n",
       "  {'id': 'MMS2_EDP_SLOW_L2_DCE'},\n",
       "  {'id': 'MMS2_EDP_SLOW_L2_SCPOT'},\n",
       "  {'id': 'MMS2_EDP_SRVY_L2_HFESP'},\n",
       "  {'id': 'MMS2_EPD-EIS_BRST_L2_EXTOF'},\n",
       "  {'id': 'MMS2_EPD-EIS_BRST_L2_PHXTOF'},\n",
       "  {'id': 'MMS2_EPD-EIS_SRVY_L2_ELECTRONENERGY'},\n",
       "  {'id': 'MMS2_EPD-EIS_SRVY_L2_EXTOF'},\n",
       "  {'id': 'MMS2_EPD-EIS_SRVY_L2_PHXTOF'},\n",
       "  {'id': 'MMS2_FEEPS_BRST_L2_ELECTRON'},\n",
       "  {'id': 'MMS2_FEEPS_BRST_L2_ION'},\n",
       "  {'id': 'MMS2_FEEPS_SRVY_L2_ELECTRON'},\n",
       "  {'id': 'MMS2_FEEPS_SRVY_L2_ION'},\n",
       "  {'id': 'MMS2_FGM_BRST_L2_0'},\n",
       "  {'id': 'MMS2_FGM_BRST_L2_1'},\n",
       "  {'id': 'MMS2_FGM_SRVY_L2_0'},\n",
       "  {'id': 'MMS2_FGM_SRVY_L2_1'},\n",
       "  {'id': 'MMS2_FPI_BRST_L2_DES-DIST'},\n",
       "  {'id': 'MMS2_FPI_BRST_L2_DES-MOMS'},\n",
       "  {'id': 'MMS2_FPI_BRST_L2_DIS-DIST'},\n",
       "  {'id': 'MMS2_FPI_BRST_L2_DIS-MOMS'},\n",
       "  {'id': 'MMS2_FPI_FAST_L2_DES-DIST'},\n",
       "  {'id': 'MMS2_FPI_FAST_L2_DES-MOMS'},\n",
       "  {'id': 'MMS2_FPI_FAST_L2_DIS-DIST'},\n",
       "  {'id': 'MMS2_FPI_FAST_L2_DIS-MOMS'},\n",
       "  {'id': 'MMS2_HPCA_BRST_L2_ION'},\n",
       "  {'id': 'MMS2_HPCA_BRST_L2_MOMENTS'},\n",
       "  {'id': 'MMS2_HPCA_SRVY_L2_ION'},\n",
       "  {'id': 'MMS2_HPCA_SRVY_L2_MOMENTS'},\n",
       "  {'id': 'MMS2_MEC_BRST_L2_EPHT89D'},\n",
       "  {'id': 'MMS2_MEC_BRST_L2_EPHT89Q'},\n",
       "  {'id': 'MMS2_MEC_BRST_L2_EPHTS04D'},\n",
       "  {'id': 'MMS2_MEC_SRVY_L2_EPHT89D'},\n",
       "  {'id': 'MMS2_MEC_SRVY_L2_EPHT89Q'},\n",
       "  {'id': 'MMS2_MEC_SRVY_L2_EPHTS04D'},\n",
       "  {'id': 'MMS2_SCM_BRST_L2_SCB'},\n",
       "  {'id': 'MMS2_SCM_BRST_L2_SCHB'},\n",
       "  {'id': 'MMS2_SCM_SRVY_L2_SCSRVY'},\n",
       "  {'id': 'MMS3_ASPOC_SRVY_L2'},\n",
       "  {'id': 'MMS3_DSP_FAST_L2_BPSD'},\n",
       "  {'id': 'MMS3_DSP_FAST_L2_EPSD'},\n",
       "  {'id': 'MMS3_DSP_SLOW_L2_BPSD'},\n",
       "  {'id': 'MMS3_DSP_SLOW_L2_EPSD'},\n",
       "  {'id': 'MMS3_EDI_BRST_L2_AMB-PM2_0'},\n",
       "  {'id': 'MMS3_EDI_BRST_L2_AMB-PM2_1'},\n",
       "  {'id': 'MMS3_EDI_BRST_L2_AMB_0'},\n",
       "  {'id': 'MMS3_EDI_BRST_L2_AMB_1'},\n",
       "  {'id': 'MMS3_EDI_BRST_L2_EFIELD'},\n",
       "  {'id': 'MMS3_EDI_BRST_L2_Q0_0'},\n",
       "  {'id': 'MMS3_EDI_BRST_L2_Q0_1'},\n",
       "  {'id': 'MMS3_EDI_BRST_L2_Q0_2'},\n",
       "  {'id': 'MMS3_EDI_SRVY_L2_AMB-PM2_0'},\n",
       "  {'id': 'MMS3_EDI_SRVY_L2_AMB-PM2_1'},\n",
       "  {'id': 'MMS3_EDI_SRVY_L2_AMB_0'},\n",
       "  {'id': 'MMS3_EDI_SRVY_L2_AMB_1'},\n",
       "  {'id': 'MMS3_EDI_SRVY_L2_EFIELD'},\n",
       "  {'id': 'MMS3_EDI_SRVY_L2_Q0_0'},\n",
       "  {'id': 'MMS3_EDI_SRVY_L2_Q0_1'},\n",
       "  {'id': 'MMS3_EDI_SRVY_L2_Q0_2'},\n",
       "  {'id': 'MMS3_EDP_BRST_L2_DCE'},\n",
       "  {'id': 'MMS3_EDP_BRST_L2_HMFE'},\n",
       "  {'id': 'MMS3_EDP_BRST_L2_SCPOT'},\n",
       "  {'id': 'MMS3_EDP_FAST_L2_DCE'},\n",
       "  {'id': 'MMS3_EDP_FAST_L2_SCPOT'},\n",
       "  {'id': 'MMS3_EDP_SLOW_L2_DCE'},\n",
       "  {'id': 'MMS3_EDP_SLOW_L2_SCPOT'},\n",
       "  {'id': 'MMS3_EDP_SRVY_L2_HFESP'},\n",
       "  {'id': 'MMS3_EPD-EIS_BRST_L2_EXTOF'},\n",
       "  {'id': 'MMS3_EPD-EIS_BRST_L2_PHXTOF'},\n",
       "  {'id': 'MMS3_EPD-EIS_SRVY_L2_ELECTRONENERGY'},\n",
       "  {'id': 'MMS3_EPD-EIS_SRVY_L2_EXTOF'},\n",
       "  {'id': 'MMS3_EPD-EIS_SRVY_L2_PHXTOF'},\n",
       "  {'id': 'MMS3_FEEPS_BRST_L2_ELECTRON'},\n",
       "  {'id': 'MMS3_FEEPS_BRST_L2_ION'},\n",
       "  {'id': 'MMS3_FEEPS_SRVY_L2_ELECTRON'},\n",
       "  {'id': 'MMS3_FEEPS_SRVY_L2_ION'},\n",
       "  {'id': 'MMS3_FGM_BRST_L2_0'},\n",
       "  {'id': 'MMS3_FGM_BRST_L2_1'},\n",
       "  {'id': 'MMS3_FGM_SRVY_L2_0'},\n",
       "  {'id': 'MMS3_FGM_SRVY_L2_1'},\n",
       "  {'id': 'MMS3_FPI_BRST_L2_DES-DIST'},\n",
       "  {'id': 'MMS3_FPI_BRST_L2_DES-MOMS'},\n",
       "  {'id': 'MMS3_FPI_BRST_L2_DIS-DIST'},\n",
       "  {'id': 'MMS3_FPI_BRST_L2_DIS-MOMS'},\n",
       "  {'id': 'MMS3_FPI_FAST_L2_DES-DIST'},\n",
       "  {'id': 'MMS3_FPI_FAST_L2_DES-MOMS'},\n",
       "  {'id': 'MMS3_FPI_FAST_L2_DIS-DIST'},\n",
       "  {'id': 'MMS3_FPI_FAST_L2_DIS-MOMS'},\n",
       "  {'id': 'MMS3_HPCA_BRST_L2_ION'},\n",
       "  {'id': 'MMS3_HPCA_BRST_L2_MOMENTS'},\n",
       "  {'id': 'MMS3_HPCA_SRVY_L2_ION'},\n",
       "  {'id': 'MMS3_HPCA_SRVY_L2_MOMENTS'},\n",
       "  {'id': 'MMS3_MEC_BRST_L2_EPHT89D'},\n",
       "  {'id': 'MMS3_MEC_BRST_L2_EPHT89Q'},\n",
       "  {'id': 'MMS3_MEC_BRST_L2_EPHTS04D'},\n",
       "  {'id': 'MMS3_MEC_SRVY_L2_EPHT89D'},\n",
       "  {'id': 'MMS3_MEC_SRVY_L2_EPHT89Q'},\n",
       "  {'id': 'MMS3_MEC_SRVY_L2_EPHTS04D'},\n",
       "  {'id': 'MMS3_SCM_BRST_L2_SCB'},\n",
       "  {'id': 'MMS3_SCM_BRST_L2_SCHB'},\n",
       "  {'id': 'MMS3_SCM_SRVY_L2_SCSRVY'},\n",
       "  {'id': 'MMS4_ASPOC_SRVY_L2'},\n",
       "  {'id': 'MMS4_DSP_FAST_L2_BPSD'},\n",
       "  {'id': 'MMS4_DSP_FAST_L2_EPSD'},\n",
       "  {'id': 'MMS4_DSP_SLOW_L2_BPSD'},\n",
       "  {'id': 'MMS4_DSP_SLOW_L2_EPSD'},\n",
       "  {'id': 'MMS4_EDI_BRST_L2_AMB-PM2_0'},\n",
       "  {'id': 'MMS4_EDI_BRST_L2_AMB-PM2_1'},\n",
       "  {'id': 'MMS4_EDI_BRST_L2_AMB_0'},\n",
       "  {'id': 'MMS4_EDI_BRST_L2_AMB_1'},\n",
       "  {'id': 'MMS4_EDI_BRST_L2_EFIELD'},\n",
       "  {'id': 'MMS4_EDI_BRST_L2_Q0_0'},\n",
       "  {'id': 'MMS4_EDI_BRST_L2_Q0_1'},\n",
       "  {'id': 'MMS4_EDI_BRST_L2_Q0_2'},\n",
       "  {'id': 'MMS4_EDI_SRVY_L2_AMB-PM2_0'},\n",
       "  {'id': 'MMS4_EDI_SRVY_L2_AMB-PM2_1'},\n",
       "  {'id': 'MMS4_EDI_SRVY_L2_AMB_0'},\n",
       "  {'id': 'MMS4_EDI_SRVY_L2_AMB_1'},\n",
       "  {'id': 'MMS4_EDI_SRVY_L2_EFIELD'},\n",
       "  {'id': 'MMS4_EDI_SRVY_L2_Q0_0'},\n",
       "  {'id': 'MMS4_EDI_SRVY_L2_Q0_1'},\n",
       "  {'id': 'MMS4_EDI_SRVY_L2_Q0_2'},\n",
       "  {'id': 'MMS4_EDP_BRST_L2_DCE'},\n",
       "  {'id': 'MMS4_EDP_BRST_L2_HMFE'},\n",
       "  {'id': 'MMS4_EDP_BRST_L2_SCPOT'},\n",
       "  {'id': 'MMS4_EDP_FAST_L2_DCE'},\n",
       "  {'id': 'MMS4_EDP_FAST_L2_SCPOT'},\n",
       "  {'id': 'MMS4_EDP_SLOW_L2_DCE'},\n",
       "  {'id': 'MMS4_EDP_SLOW_L2_SCPOT'},\n",
       "  {'id': 'MMS4_EDP_SRVY_L2_HFESP'},\n",
       "  {'id': 'MMS4_EPD-EIS_BRST_L2_EXTOF'},\n",
       "  {'id': 'MMS4_EPD-EIS_BRST_L2_PHXTOF'},\n",
       "  {'id': 'MMS4_EPD-EIS_SRVY_L2_ELECTRONENERGY'},\n",
       "  {'id': 'MMS4_EPD-EIS_SRVY_L2_EXTOF'},\n",
       "  {'id': 'MMS4_EPD-EIS_SRVY_L2_PHXTOF'},\n",
       "  {'id': 'MMS4_FEEPS_BRST_L2_ELECTRON'},\n",
       "  {'id': 'MMS4_FEEPS_BRST_L2_ION'},\n",
       "  {'id': 'MMS4_FEEPS_SRVY_L2_ELECTRON'},\n",
       "  {'id': 'MMS4_FEEPS_SRVY_L2_ION'},\n",
       "  {'id': 'MMS4_FGM_BRST_L2_0'},\n",
       "  {'id': 'MMS4_FGM_BRST_L2_1'},\n",
       "  {'id': 'MMS4_FGM_SRVY_L2_0'},\n",
       "  {'id': 'MMS4_FGM_SRVY_L2_1'},\n",
       "  {'id': 'MMS4_FPI_BRST_L2_DES-DIST'},\n",
       "  {'id': 'MMS4_FPI_BRST_L2_DES-MOMS'},\n",
       "  {'id': 'MMS4_FPI_BRST_L2_DIS-DIST'},\n",
       "  {'id': 'MMS4_FPI_BRST_L2_DIS-MOMS'},\n",
       "  {'id': 'MMS4_FPI_FAST_L2_DES-DIST'},\n",
       "  {'id': 'MMS4_FPI_FAST_L2_DES-MOMS'},\n",
       "  {'id': 'MMS4_FPI_FAST_L2_DIS-DIST'},\n",
       "  {'id': 'MMS4_FPI_FAST_L2_DIS-MOMS'},\n",
       "  {'id': 'MMS4_HPCA_BRST_L2_ION'},\n",
       "  {'id': 'MMS4_HPCA_BRST_L2_MOMENTS'},\n",
       "  {'id': 'MMS4_HPCA_SRVY_L2_ION'},\n",
       "  {'id': 'MMS4_HPCA_SRVY_L2_MOMENTS'},\n",
       "  {'id': 'MMS4_MEC_BRST_L2_EPHT89D'},\n",
       "  {'id': 'MMS4_MEC_BRST_L2_EPHT89Q'},\n",
       "  {'id': 'MMS4_MEC_BRST_L2_EPHTS04D'},\n",
       "  {'id': 'MMS4_MEC_SRVY_L2_EPHT89D'},\n",
       "  {'id': 'MMS4_MEC_SRVY_L2_EPHT89Q'},\n",
       "  {'id': 'MMS4_MEC_SRVY_L2_EPHTS04D'},\n",
       "  {'id': 'MMS4_SCM_BRST_L2_SCB'},\n",
       "  {'id': 'MMS4_SCM_BRST_L2_SCHB'},\n",
       "  {'id': 'MMS4_SCM_SRVY_L2_SCSRVY'},\n",
       "  {'id': 'MUNIN_M1_MDSE'},\n",
       "  {'id': 'MUNIN_M1_MDSI'},\n",
       "  {'id': 'MUNIN_M1_OA'},\n",
       "  {'id': 'NEW_HORIZONS_SWAP_PICKUP-IONS'},\n",
       "  {'id': 'NEW_HORIZONS_SWAP_PICKUP-IONS-HISTOGRAM'},\n",
       "  {'id': 'NEW_HORIZONS_SWAP_VALIDSUM'},\n",
       "  {'id': 'NOAA05_MEPED1MIN_SEM'},\n",
       "  {'id': 'NOAA06_MEPED1MIN_SEM'},\n",
       "  {'id': 'NOAA07_MEPED1MIN_SEM'},\n",
       "  {'id': 'NOAA08_MEPED1MIN_SEM'},\n",
       "  {'id': 'NOAA10_MEPED1MIN_SEM'},\n",
       "  {'id': 'NOAA12_MEPED1MIN_SEM'},\n",
       "  {'id': 'NOAA14_MEPED1MIN_SEM'},\n",
       "  {'id': 'NOAA15_POES-SEM2_FLUXES-2SEC'},\n",
       "  {'id': 'NOAA16_POES-SEM2_FLUXES-2SEC'},\n",
       "  {'id': 'NOAA18_POES-SEM2_FLUXES-2SEC'},\n",
       "  {'id': 'NOAA19_POES-SEM2_FLUXES-2SEC'},\n",
       "  {'id': 'PIONEER10_COHO1HR_MERGED_MAG_PLASMA'},\n",
       "  {'id': 'PIONEER10_MAG_1MIN_MAGNETIC_FIELD_0'},\n",
       "  {'id': 'PIONEER10_MAG_1MIN_MAGNETIC_FIELD_1'},\n",
       "  {'id': 'PIONEER11_COHO1HR_MERGED_MAG_PLASMA'},\n",
       "  {'id': 'PIONEERVENUS_COHO1HR_MERGED_MAG_PLASMA'},\n",
       "  {'id': 'POLAR_HYDRA_MOMENTS-14SEC'},\n",
       "  {'id': 'PO_10MINATT_EFI'},\n",
       "  {'id': 'PO_6SECEDSC_EFI'},\n",
       "  {'id': 'PO_6SECPOTLDENS_EFI'},\n",
       "  {'id': 'PO_AT_DEF'},\n",
       "  {'id': 'PO_AT_PRE'},\n",
       "  {'id': 'PO_EJ_VIS'},\n",
       "  {'id': 'PO_H0_CAM'},\n",
       "  {'id': 'PO_H0_HYD'},\n",
       "  {'id': 'PO_H0_PWI_0'},\n",
       "  {'id': 'PO_H0_PWI_1'},\n",
       "  {'id': 'PO_H0_TID'},\n",
       "  {'id': 'PO_H0_TIM_0'},\n",
       "  {'id': 'PO_H0_TIM_1'},\n",
       "  {'id': 'PO_H0_TIM_2'},\n",
       "  {'id': 'PO_H0_TIM_3'},\n",
       "  {'id': 'PO_H0_UVI'},\n",
       "  {'id': 'PO_H1_PWI_0'},\n",
       "  {'id': 'PO_H1_PWI_1'},\n",
       "  {'id': 'PO_H1_PWI_2'},\n",
       "  {'id': 'PO_H1_PWI_3'},\n",
       "  {'id': 'PO_H1_PWI_4'},\n",
       "  {'id': 'PO_H1_TID'},\n",
       "  {'id': 'PO_H2_PWI'},\n",
       "  {'id': 'PO_H3_PWI_0'},\n",
       "  {'id': 'PO_H3_PWI_1'},\n",
       "  {'id': 'PO_H4_PWI_0'},\n",
       "  {'id': 'PO_H4_PWI_1'},\n",
       "  {'id': 'PO_H5_PWI_0'},\n",
       "  {'id': 'PO_H5_PWI_1'},\n",
       "  {'id': 'PO_H7_PWI'},\n",
       "  {'id': 'PO_H8_PWI'},\n",
       "  {'id': 'PO_H9_PWI'},\n",
       "  {'id': 'PO_K0_CAM'},\n",
       "  {'id': 'PO_K0_CEP'},\n",
       "  {'id': 'PO_K0_EFI'},\n",
       "  {'id': 'PO_K0_HYD'},\n",
       "  {'id': 'PO_K0_MFE_0'},\n",
       "  {'id': 'PO_K0_MFE_1'},\n",
       "  {'id': 'PO_K0_PIX'},\n",
       "  {'id': 'PO_K0_PWI'},\n",
       "  {'id': 'PO_K0_SPHA'},\n",
       "  {'id': 'PO_K0_UVI'},\n",
       "  {'id': 'PO_K0_VIS'},\n",
       "  {'id': 'PO_K1_TIM'},\n",
       "  {'id': 'PO_K1_VIS'},\n",
       "  {'id': 'PO_OR_DEF'},\n",
       "  {'id': 'PO_OR_PRE'},\n",
       "  {'id': 'PO_PA_DEF'},\n",
       "  {'id': 'PO_VIS_EARTH-CAMERA-CALIBRATED'},\n",
       "  {'id': 'PO_VIS_VISIBLE-IMAGER-CALIBRATED'},\n",
       "  {'id': 'RBSP-A-RBSPICE_LEV-2_ESRHELT'},\n",
       "  {'id': 'RBSP-A-RBSPICE_LEV-2_ESRLEHT'},\n",
       "  {'id': 'RBSP-A-RBSPICE_LEV-2_ISRHELT'},\n",
       "  {'id': 'RBSP-A-RBSPICE_LEV-2_TOFXEH'},\n",
       "  {'id': 'RBSP-A-RBSPICE_LEV-2_TOFXEION'},\n",
       "  {'id': 'RBSP-A-RBSPICE_LEV-2_TOFXENONH'},\n",
       "  {'id': 'RBSP-A-RBSPICE_LEV-2_TOFXPHHHELT'},\n",
       "  {'id': 'RBSP-A-RBSPICE_LEV-2_TOFXPHHLEHT'},\n",
       "  {'id': 'RBSP-A-RBSPICE_LEV-3-PAP_ESRHELT'},\n",
       "  {'id': 'RBSP-A-RBSPICE_LEV-3-PAP_ESRLEHT'},\n",
       "  {'id': 'RBSP-A-RBSPICE_LEV-3-PAP_TOFXEH'},\n",
       "  {'id': 'RBSP-A-RBSPICE_LEV-3-PAP_TOFXEHE-0'},\n",
       "  {'id': 'RBSP-A-RBSPICE_LEV-3-PAP_TOFXEION'},\n",
       "  {'id': 'RBSP-A-RBSPICE_LEV-3-PAP_TOFXEO-0'},\n",
       "  {'id': 'RBSP-A-RBSPICE_LEV-3-PAP_TOFXPHHHELT'},\n",
       "  {'id': 'RBSP-A-RBSPICE_LEV-3-PAP_TOFXPHHLEHT'},\n",
       "  {'id': 'RBSP-A-RBSPICE_LEV-3-PAP_TOFXPHOHELT'},\n",
       "  {'id': 'RBSP-A-RBSPICE_LEV-3-PAP_TOFXPHOLEHT'},\n",
       "  {'id': 'RBSP-A-RBSPICE_LEV-3_ESRHELT'},\n",
       "  {'id': 'RBSP-A-RBSPICE_LEV-3_ESRLEHT'},\n",
       "  {'id': 'RBSP-A-RBSPICE_LEV-3_ISRHELT'},\n",
       "  {'id': 'RBSP-A-RBSPICE_LEV-3_TOFXEH'},\n",
       "  {'id': 'RBSP-A-RBSPICE_LEV-3_TOFXEION'},\n",
       "  {'id': 'RBSP-A-RBSPICE_LEV-3_TOFXENONH'},\n",
       "  {'id': 'RBSP-A-RBSPICE_LEV-3_TOFXPHHHELT'},\n",
       "  {'id': 'RBSP-A-RBSPICE_LEV-3_TOFXPHHLEHT'},\n",
       "  {'id': 'RBSP-A_DENSITY_EMFISIS-L4'},\n",
       "  {'id': 'RBSP-A_HFR-SPECTRA-BURST_EMFISIS-L2'},\n",
       "  {'id': 'RBSP-A_HFR-SPECTRA_EMFISIS-L2'},\n",
       "  {'id': 'RBSP-A_HFR-WAVEFORM_EMFISIS-L2_0'},\n",
       "  {'id': 'RBSP-A_HFR-WAVEFORM_EMFISIS-L2_1'},\n",
       "  {'id': 'RBSP-A_MAGNETOMETER_1SEC-GEI_EMFISIS-L3'},\n",
       "  {'id': 'RBSP-A_MAGNETOMETER_1SEC-GEO_EMFISIS-L3'},\n",
       "  {'id': 'RBSP-A_MAGNETOMETER_1SEC-GSE_EMFISIS-L3'},\n",
       "  {'id': 'RBSP-A_MAGNETOMETER_1SEC-GSM_EMFISIS-L3'},\n",
       "  {'id': 'RBSP-A_MAGNETOMETER_1SEC-SM_EMFISIS-L3'},\n",
       "  {'id': 'RBSP-A_MAGNETOMETER_4SEC-GEI_EMFISIS-L3'},\n",
       "  {'id': 'RBSP-A_MAGNETOMETER_4SEC-GEO_EMFISIS-L3'},\n",
       "  {'id': 'RBSP-A_MAGNETOMETER_4SEC-GSE_EMFISIS-L3'},\n",
       "  {'id': 'RBSP-A_MAGNETOMETER_4SEC-GSM_EMFISIS-L3'},\n",
       "  {'id': 'RBSP-A_MAGNETOMETER_4SEC-SM_EMFISIS-L3'},\n",
       "  {'id': 'RBSP-A_MAGNETOMETER_HIRES-GEI_EMFISIS-L3'},\n",
       "  {'id': 'RBSP-A_MAGNETOMETER_HIRES-GEO_EMFISIS-L3'},\n",
       "  {'id': 'RBSP-A_MAGNETOMETER_HIRES-GSE_EMFISIS-L3'},\n",
       "  {'id': 'RBSP-A_MAGNETOMETER_HIRES-GSM_EMFISIS-L3'},\n",
       "  {'id': 'RBSP-A_MAGNETOMETER_HIRES-SM_EMFISIS-L3'},\n",
       "  {'id': 'RBSP-A_MAGNETOMETER_UVW_EMFISIS-L2'},\n",
       "  {'id': 'RBSP-A_WFR-SPECTRAL-MATRIX-DIAGONAL-MERGED_EMFISIS-L2'},\n",
       "  {'id': 'RBSP-A_WFR-SPECTRAL-MATRIX-DIAGONAL_EMFISIS-L2'},\n",
       "  {'id': 'RBSP-A_WFR-SPECTRAL-MATRIX_EMFISIS-L2'},\n",
       "  {'id': 'RBSP-A_WFR-WAVEFORM-CONTINUOUS-BURST_EMFISIS-L2'},\n",
       "  {'id': 'RBSP-A_WFR-WAVEFORM_EMFISIS-L2'},\n",
       "  {'id': 'RBSP-B-RBSPICE_LEV-2_ESRHELT'},\n",
       "  {'id': 'RBSP-B-RBSPICE_LEV-2_ESRLEHT'},\n",
       "  {'id': 'RBSP-B-RBSPICE_LEV-2_ISRHELT'},\n",
       "  {'id': 'RBSP-B-RBSPICE_LEV-2_TOFXEH'},\n",
       "  {'id': 'RBSP-B-RBSPICE_LEV-2_TOFXEION'},\n",
       "  {'id': 'RBSP-B-RBSPICE_LEV-2_TOFXENONH'},\n",
       "  {'id': 'RBSP-B-RBSPICE_LEV-2_TOFXPHHHELT'},\n",
       "  {'id': 'RBSP-B-RBSPICE_LEV-2_TOFXPHHLEHT'},\n",
       "  {'id': 'RBSP-B-RBSPICE_LEV-3-PAP_ESRHELT'},\n",
       "  {'id': 'RBSP-B-RBSPICE_LEV-3-PAP_ESRLEHT'},\n",
       "  {'id': 'RBSP-B-RBSPICE_LEV-3-PAP_TOFXEH'},\n",
       "  {'id': 'RBSP-B-RBSPICE_LEV-3-PAP_TOFXEHE-0'},\n",
       "  {'id': 'RBSP-B-RBSPICE_LEV-3-PAP_TOFXEION'},\n",
       "  {'id': 'RBSP-B-RBSPICE_LEV-3-PAP_TOFXEO-0'},\n",
       "  {'id': 'RBSP-B-RBSPICE_LEV-3-PAP_TOFXPHHHELT'},\n",
       "  {'id': 'RBSP-B-RBSPICE_LEV-3-PAP_TOFXPHHLEHT'},\n",
       "  {'id': 'RBSP-B-RBSPICE_LEV-3-PAP_TOFXPHOHELT'},\n",
       "  {'id': 'RBSP-B-RBSPICE_LEV-3-PAP_TOFXPHOLEHT'},\n",
       "  {'id': 'RBSP-B-RBSPICE_LEV-3_ESRHELT'},\n",
       "  {'id': 'RBSP-B-RBSPICE_LEV-3_ESRLEHT'},\n",
       "  {'id': 'RBSP-B-RBSPICE_LEV-3_ISRHELT'},\n",
       "  {'id': 'RBSP-B-RBSPICE_LEV-3_TOFXEH'},\n",
       "  {'id': 'RBSP-B-RBSPICE_LEV-3_TOFXEION'},\n",
       "  {'id': 'RBSP-B-RBSPICE_LEV-3_TOFXENONH'},\n",
       "  {'id': 'RBSP-B-RBSPICE_LEV-3_TOFXPHHHELT'},\n",
       "  {'id': 'RBSP-B-RBSPICE_LEV-3_TOFXPHHLEHT'},\n",
       "  {'id': 'RBSP-B_DENSITY_EMFISIS-L4'},\n",
       "  {'id': 'RBSP-B_HFR-SPECTRA-BURST_EMFISIS-L2'},\n",
       "  {'id': 'RBSP-B_HFR-SPECTRA-MERGED_EMFISIS-L2'},\n",
       "  {'id': 'RBSP-B_HFR-SPECTRA_EMFISIS-L2'},\n",
       "  {'id': 'RBSP-B_HFR-WAVEFORM_EMFISIS-L2_0'},\n",
       "  {'id': 'RBSP-B_HFR-WAVEFORM_EMFISIS-L2_1'},\n",
       "  {'id': 'RBSP-B_MAGNETOMETER_1SEC-GEI_EMFISIS-L3'},\n",
       "  {'id': 'RBSP-B_MAGNETOMETER_1SEC-GEO_EMFISIS-L3'},\n",
       "  {'id': 'RBSP-B_MAGNETOMETER_1SEC-GSE_EMFISIS-L3'},\n",
       "  {'id': 'RBSP-B_MAGNETOMETER_1SEC-GSM_EMFISIS-L3'},\n",
       "  {'id': 'RBSP-B_MAGNETOMETER_1SEC-SM_EMFISIS-L3'},\n",
       "  {'id': 'RBSP-B_MAGNETOMETER_4SEC-GEI_EMFISIS-L3'},\n",
       "  {'id': 'RBSP-B_MAGNETOMETER_4SEC-GEO_EMFISIS-L3'},\n",
       "  {'id': 'RBSP-B_MAGNETOMETER_4SEC-GSE_EMFISIS-L3'},\n",
       "  {'id': 'RBSP-B_MAGNETOMETER_4SEC-GSM_EMFISIS-L3'},\n",
       "  {'id': 'RBSP-B_MAGNETOMETER_4SEC-SM_EMFISIS-L3'},\n",
       "  {'id': 'RBSP-B_MAGNETOMETER_HIRES-GEI_EMFISIS-L3'},\n",
       "  {'id': 'RBSP-B_MAGNETOMETER_HIRES-GEO_EMFISIS-L3'},\n",
       "  {'id': 'RBSP-B_MAGNETOMETER_HIRES-GSE_EMFISIS-L3'},\n",
       "  {'id': 'RBSP-B_MAGNETOMETER_HIRES-GSM_EMFISIS-L3'},\n",
       "  {'id': 'RBSP-B_MAGNETOMETER_HIRES-SM_EMFISIS-L3'},\n",
       "  {'id': 'RBSP-B_MAGNETOMETER_UVW_EMFISIS-L2'},\n",
       "  {'id': 'RBSP-B_WFR-SPECTRAL-MATRIX-DIAGONAL-MERGED_EMFISIS-L2'},\n",
       "  {'id': 'RBSP-B_WFR-SPECTRAL-MATRIX-DIAGONAL_EMFISIS-L2'},\n",
       "  {'id': 'RBSP-B_WFR-SPECTRAL-MATRIX_EMFISIS-L2'},\n",
       "  {'id': 'RBSP-B_WFR-WAVEFORM-CONTINUOUS-BURST_EMFISIS-L2'},\n",
       "  {'id': 'RBSP-B_WFR-WAVEFORM_EMFISIS-L2'},\n",
       "  {'id': 'RBSPA_EFW-L2_E-HIRES-UVW'},\n",
       "  {'id': 'RBSPA_EFW-L2_E-SPINFIT-MGSE_0'},\n",
       "  {'id': 'RBSPA_EFW-L2_E-SPINFIT-MGSE_1'},\n",
       "  {'id': 'RBSPA_EFW-L2_ESVY_DESPUN_0'},\n",
       "  {'id': 'RBSPA_EFW-L2_ESVY_DESPUN_1'},\n",
       "  {'id': 'RBSPA_EFW-L2_FBK_0'},\n",
       "  {'id': 'RBSPA_EFW-L2_FBK_1'},\n",
       "  {'id': 'RBSPA_EFW-L2_SPEC_0'},\n",
       "  {'id': 'RBSPA_EFW-L2_SPEC_1'},\n",
       "  {'id': 'RBSPA_EFW-L2_VSVY-HIRES_0'},\n",
       "  {'id': 'RBSPA_EFW-L2_VSVY-HIRES_1'},\n",
       "  {'id': 'RBSPA_EFW-L2_VSVY-HIRES_2'},\n",
       "  {'id': 'RBSPA_EFW-L3'},\n",
       "  {'id': 'RBSPA_L2-1MIN_PSBR-RPS'},\n",
       "  {'id': 'RBSPA_L2_PSBR-RPS_0'},\n",
       "  {'id': 'RBSPA_L2_PSBR-RPS_1'},\n",
       "  {'id': 'RBSPA_REL03_ECT-HOPE-MOM-L3_0'},\n",
       "  {'id': 'RBSPA_REL03_ECT-HOPE-MOM-L3_1'},\n",
       "  {'id': 'RBSPA_REL03_ECT-HOPE-PA-L3_0'},\n",
       "  {'id': 'RBSPA_REL03_ECT-HOPE-PA-L3_1'},\n",
       "  {'id': 'RBSPA_REL03_ECT-HOPE-SCI-L2SA_0'},\n",
       "  {'id': 'RBSPA_REL03_ECT-HOPE-SCI-L2SA_1'},\n",
       "  {'id': 'RBSPA_REL03_ECT-HOPE-SCI-L2_0'},\n",
       "  {'id': 'RBSPA_REL03_ECT-HOPE-SCI-L2_1'},\n",
       "  {'id': 'RBSPA_REL03_ECT-MAGEIS-L2_0'},\n",
       "  {'id': 'RBSPA_REL03_ECT-MAGEIS-L2_1'},\n",
       "  {'id': 'RBSPA_REL03_ECT-MAGEIS-L3_0'},\n",
       "  {'id': 'RBSPA_REL03_ECT-MAGEIS-L3_1'},\n",
       "  {'id': 'RBSPA_REL03_ECT-REPT-SCI-L2'},\n",
       "  {'id': 'RBSPA_REL03_ECT-REPT-SCI-L3_0'},\n",
       "  {'id': 'RBSPA_REL03_ECT-REPT-SCI-L3_1'},\n",
       "  {'id': 'RBSPB_EFW-L2_E-HIRES-UVW'},\n",
       "  {'id': 'RBSPB_EFW-L2_E-SPINFIT-MGSE_0'},\n",
       "  {'id': 'RBSPB_EFW-L2_E-SPINFIT-MGSE_1'},\n",
       "  {'id': 'RBSPB_EFW-L2_ESVY_DESPUN_0'},\n",
       "  {'id': 'RBSPB_EFW-L2_ESVY_DESPUN_1'},\n",
       "  {'id': 'RBSPB_EFW-L2_FBK_0'},\n",
       "  {'id': 'RBSPB_EFW-L2_FBK_1'},\n",
       "  {'id': 'RBSPB_EFW-L2_SPEC_0'},\n",
       "  {'id': 'RBSPB_EFW-L2_SPEC_1'},\n",
       "  {'id': 'RBSPB_EFW-L2_VSVY-HIRES_0'},\n",
       "  {'id': 'RBSPB_EFW-L2_VSVY-HIRES_1'},\n",
       "  {'id': 'RBSPB_EFW-L2_VSVY-HIRES_2'},\n",
       "  {'id': 'RBSPB_EFW-L3'},\n",
       "  {'id': 'RBSPB_L2-1MIN_PSBR-RPS'},\n",
       "  {'id': 'RBSPB_L2_PSBR-RPS_0'},\n",
       "  {'id': 'RBSPB_L2_PSBR-RPS_1'},\n",
       "  {'id': 'RBSPB_REL03_ECT-HOPE-MOM-L3_0'},\n",
       "  {'id': 'RBSPB_REL03_ECT-HOPE-MOM-L3_1'},\n",
       "  {'id': 'RBSPB_REL03_ECT-HOPE-PA-L3_0'},\n",
       "  {'id': 'RBSPB_REL03_ECT-HOPE-PA-L3_1'},\n",
       "  {'id': 'RBSPB_REL03_ECT-HOPE-SCI-L2SA_0'},\n",
       "  {'id': 'RBSPB_REL03_ECT-HOPE-SCI-L2SA_1'},\n",
       "  {'id': 'RBSPB_REL03_ECT-HOPE-SCI-L2_0'},\n",
       "  ...]}"
      ]
     },
     "metadata": {},
     "output_type": "display_data"
    }
   ],
   "source": [
    "from hapiclient.hapi import hapi\n",
    "\n",
    "server     = 'https://cdaweb.gsfc.nasa.gov/hapi'\n",
    "meta = hapi(server)\n",
    "\n",
    "display(meta)"
   ]
  },
  {
   "cell_type": "markdown",
   "metadata": {},
   "source": [
    "## Dataset  parameters"
   ]
  },
  {
   "cell_type": "markdown",
   "metadata": {},
   "source": [
    "Equivalent URL: https://cdaweb.gsfc.nasa.gov/hapi/info?id=AC_H0_MFI"
   ]
  },
  {
   "cell_type": "code",
   "execution_count": 143,
   "metadata": {},
   "outputs": [
    {
     "data": {
      "text/plain": [
       "{'HAPI': '2.0',\n",
       " 'status': {'code': 1200, 'message': 'OK'},\n",
       " 'parameters': [{'name': 'Time',\n",
       "   'type': 'isotime',\n",
       "   'units': 'UTC',\n",
       "   'length': 24,\n",
       "   'fill': None},\n",
       "  {'name': 'Magnitude',\n",
       "   'type': 'double',\n",
       "   'units': 'nT',\n",
       "   'fill': '-1.0E31',\n",
       "   'description': 'B-field magnitude'},\n",
       "  {'name': 'BGSEc',\n",
       "   'type': 'double',\n",
       "   'units': 'nT',\n",
       "   'fill': '-1.0E31',\n",
       "   'description': 'Magnetic Field Vector in GSE Cartesian coordinates (16 sec)',\n",
       "   'size': [3]},\n",
       "  {'name': 'BGSM',\n",
       "   'type': 'double',\n",
       "   'units': 'nT',\n",
       "   'fill': '-1.0E31',\n",
       "   'description': 'Magnetic field vector in GSM coordinates (16 sec)',\n",
       "   'size': [3]},\n",
       "  {'name': 'dBrms',\n",
       "   'type': 'double',\n",
       "   'units': 'nT',\n",
       "   'fill': '-1.0E31',\n",
       "   'description': 'RMS of Magnetic Field (16 sec period)'},\n",
       "  {'name': 'SC_pos_GSE',\n",
       "   'type': 'double',\n",
       "   'units': 'km',\n",
       "   'fill': '-1.0E31',\n",
       "   'description': 'ACE s/c position, 3 comp. in GSE coord.',\n",
       "   'size': [3]},\n",
       "  {'name': 'SC_pos_GSM',\n",
       "   'type': 'double',\n",
       "   'units': 'km',\n",
       "   'fill': '-1.0E31',\n",
       "   'description': 'ACE s/c position, 3 comp. in GSM coord.',\n",
       "   'size': [3]}],\n",
       " 'startDate': '1997-09-02T00:00:12Z',\n",
       " 'stopDate': '2018-08-10T23:59:51Z'}"
      ]
     },
     "metadata": {},
     "output_type": "display_data"
    }
   ],
   "source": [
    "from hapiclient.hapi import hapi\n",
    "\n",
    "server     = 'https://cdaweb.gsfc.nasa.gov/hapi'\n",
    "dataset    = 'AC_H0_MFI'\n",
    "meta = hapi(server,dataset)\n",
    "display(meta)"
   ]
  },
  {
   "cell_type": "markdown",
   "metadata": {},
   "source": [
    "## Parameters\n",
    "\n",
    "Equivalent URL: https://cdaweb.gsfc.nasa.gov/hapi/info?id=AC_H0_MFI&parameters=Magnitude,BGSEc\n",
    "\n",
    "(Except for the addition of internal keys that prefixed by `x_`.)"
   ]
  },
  {
   "cell_type": "code",
   "execution_count": 144,
   "metadata": {},
   "outputs": [
    {
     "data": {
      "text/plain": [
       "{'HAPI': '2.0',\n",
       " 'status': {'code': 1200, 'message': 'OK'},\n",
       " 'parameters': [{'name': 'Time',\n",
       "   'type': 'isotime',\n",
       "   'units': 'UTC',\n",
       "   'length': 24,\n",
       "   'fill': None},\n",
       "  {'name': 'Magnitude',\n",
       "   'type': 'double',\n",
       "   'units': 'nT',\n",
       "   'fill': '-1.0E31',\n",
       "   'description': 'B-field magnitude'},\n",
       "  {'name': 'BGSEc',\n",
       "   'type': 'double',\n",
       "   'units': 'nT',\n",
       "   'fill': '-1.0E31',\n",
       "   'description': 'Magnetic Field Vector in GSE Cartesian coordinates (16 sec)',\n",
       "   'size': [3]}],\n",
       " 'startDate': '1997-09-02T00:00:12Z',\n",
       " 'stopDate': '2018-08-10T23:59:51Z',\n",
       " 'x_server': 'https://cdaweb.gsfc.nasa.gov/hapi',\n",
       " 'x_dataset': 'AC_H0_MFI',\n",
       " 'x_parameters': 'Magnitude,BGSEc',\n",
       " 'x_metaFile': '/Users/robertweigel/git/client-python/hapi-data/cdaweb.gsfc.nasa.gov_hapi/AC_H0_MFI_MagnitudeBGSEc.json',\n",
       " 'x_requestDate': '2018-10-04T09:52:27',\n",
       " 'x_cacheDir': '/Users/robertweigel/git/client-python/hapi-data/cdaweb.gsfc.nasa.gov_hapi'}"
      ]
     },
     "metadata": {},
     "output_type": "display_data"
    }
   ],
   "source": [
    "from hapiclient.hapi import hapi\n",
    "\n",
    "server     = 'https://cdaweb.gsfc.nasa.gov/hapi'\n",
    "dataset    = 'AC_H0_MFI'\n",
    "parameters = 'Magnitude,BGSEc'\n",
    "\n",
    "meta = hapi(server,dataset,parameters)\n",
    "\n",
    "display(meta)"
   ]
  }
 ],
 "metadata": {
  "kernelspec": {
   "display_name": "Python 3",
   "language": "python",
   "name": "python3"
  },
  "language_info": {
   "codemirror_mode": {
    "name": "ipython",
    "version": 3
   },
   "file_extension": ".py",
   "mimetype": "text/x-python",
   "name": "python",
   "nbconvert_exporter": "python",
   "pygments_lexer": "ipython3",
   "version": "3.6.5"
  }
 },
 "nbformat": 4,
 "nbformat_minor": 2
}
